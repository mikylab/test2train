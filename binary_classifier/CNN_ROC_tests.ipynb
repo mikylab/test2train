{
 "cells": [
  {
   "cell_type": "code",
   "execution_count": 1,
   "metadata": {},
   "outputs": [],
   "source": [
    "import numpy as np\n",
    "import tensorflow as tf\n",
    "import pandas as pd\n",
    "import matplotlib.pyplot as plt\n",
    "from tensorflow.python.keras.preprocessing.image import ImageDataGenerator"
   ]
  },
  {
   "cell_type": "code",
   "execution_count": 2,
   "metadata": {},
   "outputs": [
    {
     "name": "stdout",
     "output_type": "stream",
     "text": [
      "Num GPUs Available:  2\n",
      "2 Physical GPUs, 2 Logical GPUs\n"
     ]
    }
   ],
   "source": [
    "print(\"Num GPUs Available: \", len(tf.config.experimental.list_physical_devices('GPU')))\n",
    "\n",
    "gpus = tf.config.experimental.list_physical_devices('GPU')\n",
    "if gpus:\n",
    "  try:\n",
    "    # Currently, memory growth needs to be the same across GPUs\n",
    "    for gpu in gpus:\n",
    "      tf.config.experimental.set_memory_growth(gpu, True)\n",
    "    logical_gpus = tf.config.experimental.list_logical_devices('GPU')\n",
    "    print(len(gpus), \"Physical GPUs,\", len(logical_gpus), \"Logical GPUs\")\n",
    "  except RuntimeError as e:\n",
    "    # Memory growth must be set before GPUs have been initialized\n",
    "    print(e)"
   ]
  },
  {
   "cell_type": "code",
   "execution_count": 3,
   "metadata": {},
   "outputs": [],
   "source": [
    "train_dir = '/home/mikylab/cycleGan/melanomaImages/train/'\n",
    "train_csv = pd.read_csv('/home/mikylab/cycleGan/clinic_csv/train.csv')\n",
    "\n",
    "test_dir = '/home/mikylab/cycleGan/2016_test_data/'\n",
    "test_csv = pd.read_csv('/home/mikylab/cycleGan/clinic_csv/ISBI2016_GroundTruth.csv')\n",
    "train_csv.shape\n",
    "\n",
    "test_2017_dir = '/home/mikylab/cycleGan/ISIC-2017_TestData/'\n",
    "test_2017_csv = pd.read_csv('/home/mikylab/cycleGan/clinic_csv/ISIC-2017_Test_GroundTruth.csv')"
   ]
  },
  {
   "cell_type": "code",
   "execution_count": 4,
   "metadata": {},
   "outputs": [],
   "source": [
    "MSKCC_csv = pd.read_csv('/home/mikylab/cycleGan/clinic_csv/MSKCC_contribution.csv')"
   ]
  },
  {
   "cell_type": "code",
   "execution_count": 5,
   "metadata": {},
   "outputs": [],
   "source": [
    "MSKCC_frame = pd.DataFrame({'image_dir': MSKCC_csv['name'], 'target': MSKCC_csv['meta.clinical.benign_malignant']})"
   ]
  },
  {
   "cell_type": "code",
   "execution_count": 6,
   "metadata": {},
   "outputs": [],
   "source": [
    "MSKCC_frame.target[MSKCC_frame.target == 'benign'] = 0\n",
    "MSKCC_frame.target[MSKCC_frame.target == 'malignant'] = 1\n",
    "MSKCC_frame.target = MSKCC_frame.target.apply(int)"
   ]
  },
  {
   "cell_type": "code",
   "execution_count": 7,
   "metadata": {},
   "outputs": [],
   "source": [
    "MSKCC_mal_train = MSKCC_frame[MSKCC_frame['target']==1]\n",
    "MSKCC_ben_train2 = MSKCC_frame[MSKCC_frame['target']==0]#.sample(n=500, random_state = 316)\n",
    "MSKCC_ben_train = MSKCC_frame[MSKCC_frame['target']==0].sample(n=500, random_state = 316)\n",
    "MSKCC_frame =  pd.concat([MSKCC_mal_train, MSKCC_ben_train], ignore_index=True, sort =False)"
   ]
  },
  {
   "cell_type": "code",
   "execution_count": 8,
   "metadata": {},
   "outputs": [],
   "source": [
    "MSKCC_frame['image_dir'] = train_dir + MSKCC_frame['image_dir'] + '.jpg'"
   ]
  },
  {
   "cell_type": "code",
   "execution_count": 9,
   "metadata": {},
   "outputs": [],
   "source": [
    "MSKCC_frame2 =  pd.concat([MSKCC_mal_train, MSKCC_ben_train2], ignore_index=True, sort =False)\n",
    "MSKCC_frame2['image_dir'] = train_dir + MSKCC_frame2['image_dir'] + '.jpg'"
   ]
  },
  {
   "cell_type": "code",
   "execution_count": 10,
   "metadata": {},
   "outputs": [],
   "source": [
    "BCN_csv = pd.read_csv('/home/mikylab/cycleGan/clinic_csv/BCN_contribution.csv')\n",
    "BCN_frame = pd.DataFrame({'image_dir': BCN_csv['name'], 'target': BCN_csv['meta.clinical.benign_malignant']})\n",
    "BCN_frame.target[BCN_frame.target == 'benign'] = 0\n",
    "BCN_frame.target[BCN_frame.target == 'malignant'] = 1\n",
    "BCN_frame.target = BCN_frame.target.apply(int)\n"
   ]
  },
  {
   "cell_type": "code",
   "execution_count": 11,
   "metadata": {},
   "outputs": [],
   "source": [
    "BCN_frame_mal_train = BCN_frame[BCN_frame['target']==1]\n",
    "BCN_frame_ben_train = BCN_frame[BCN_frame['target']==0].sample(n=500, random_state = 316)"
   ]
  },
  {
   "cell_type": "code",
   "execution_count": 12,
   "metadata": {},
   "outputs": [
    {
     "data": {
      "text/plain": [
       "(179, 2)"
      ]
     },
     "execution_count": 12,
     "metadata": {},
     "output_type": "execute_result"
    }
   ],
   "source": [
    "BCN_frame_mal_train.shape"
   ]
  },
  {
   "cell_type": "code",
   "execution_count": 13,
   "metadata": {},
   "outputs": [],
   "source": [
    "BCN_frame['image_dir'] = train_dir + BCN_frame['image_dir'] + '.jpg'"
   ]
  },
  {
   "cell_type": "code",
   "execution_count": 14,
   "metadata": {},
   "outputs": [],
   "source": [
    "benchmark_derm_dir = '/home/mikylab/cycleGan/BenchmarkDermoscopic/test/'\n",
    "benchmark_derm_csv = pd.read_csv('/home/mikylab/cycleGan/clinic_csv/DermoscopicNameSource.csv')"
   ]
  },
  {
   "cell_type": "code",
   "execution_count": 15,
   "metadata": {},
   "outputs": [],
   "source": [
    "benchmark_clin_dir = '/home/mikylab/cycleGan/BenchmarkClinical/test/'\n",
    "benchmark_clin_csv = pd.read_csv('/home/mikylab/cycleGan/clinic_csv/ClinicalNameSource.csv')"
   ]
  },
  {
   "cell_type": "code",
   "execution_count": 16,
   "metadata": {},
   "outputs": [],
   "source": [
    "benchmark_clin_csv = benchmark_clin_csv.rename(columns={'file name': 'image_dir','Unnamed: 2': 'target'})\n",
    "\n",
    "benchmark_clin_csv=benchmark_clin_csv.iloc[:,1:3]"
   ]
  },
  {
   "cell_type": "code",
   "execution_count": 17,
   "metadata": {},
   "outputs": [],
   "source": [
    "benchmark_clin_csv.target[benchmark_clin_csv.target == 'CD'] = 0\n",
    "benchmark_clin_csv.target[benchmark_clin_csv.target == 'h'] = 1"
   ]
  },
  {
   "cell_type": "code",
   "execution_count": 18,
   "metadata": {},
   "outputs": [],
   "source": [
    "benchmark_clin_csv.target = benchmark_clin_csv.target.apply(int)"
   ]
  },
  {
   "cell_type": "code",
   "execution_count": 19,
   "metadata": {},
   "outputs": [],
   "source": [
    "benchmark_clin_csv['image_dir'] = benchmark_clin_dir + benchmark_clin_csv['image_dir'] + '.jpg'"
   ]
  },
  {
   "cell_type": "code",
   "execution_count": 20,
   "metadata": {},
   "outputs": [],
   "source": [
    "benchmark_derm_csv = benchmark_derm_csv.rename(columns={'file name': 'image_dir','ground trut0': 'target'})\n",
    "benchmark_derm_csv = benchmark_derm_csv.iloc[:,1:3]"
   ]
  },
  {
   "cell_type": "code",
   "execution_count": 21,
   "metadata": {},
   "outputs": [],
   "source": [
    "benchmark_derm_csv.image_dir= benchmark_derm_csv.image_dir.apply(str)"
   ]
  },
  {
   "cell_type": "code",
   "execution_count": 22,
   "metadata": {},
   "outputs": [],
   "source": [
    "benchmark_derm_csv['image_dir'] = benchmark_derm_dir + benchmark_derm_csv['image_dir'] + '.jpg'"
   ]
  },
  {
   "cell_type": "code",
   "execution_count": 23,
   "metadata": {},
   "outputs": [],
   "source": [
    "mal_train = train_csv[train_csv['target']==1]\n",
    "ben_train = train_csv[train_csv['target']==0].sample(n=2000, random_state = 316)"
   ]
  },
  {
   "cell_type": "code",
   "execution_count": 24,
   "metadata": {},
   "outputs": [],
   "source": [
    "#combine and change image_name to directory values\n",
    "total_train =  pd.concat([mal_train, ben_train], ignore_index=True, sort =False)\n",
    "total_train['image_name'] = train_dir + total_train['image_name'] + '.jpg'\n",
    "\n",
    "#remove unnecessary columns\n",
    "total_train = total_train.drop(['patient_id', 'sex', 'age_approx', 'anatom_site_general_challenge', 'diagnosis', 'benign_malignant'], axis = 1)"
   ]
  },
  {
   "cell_type": "code",
   "execution_count": 25,
   "metadata": {},
   "outputs": [],
   "source": [
    "total_test = pd.DataFrame({'image_dir': test_csv['ISIC_0000003'], 'target': test_csv['0.0']})"
   ]
  },
  {
   "cell_type": "code",
   "execution_count": 26,
   "metadata": {},
   "outputs": [],
   "source": [
    "total_test['image_dir'] = test_dir + total_test['image_dir'] + '.jpg'"
   ]
  },
  {
   "cell_type": "code",
   "execution_count": 27,
   "metadata": {},
   "outputs": [],
   "source": [
    "test_2017_frame = pd.DataFrame({'image_dir': test_2017_csv['image_id'], 'target': test_2017_csv['melanoma']})"
   ]
  },
  {
   "cell_type": "code",
   "execution_count": 90,
   "metadata": {},
   "outputs": [],
   "source": [
    "test_2017_frame['image_dir'] = test_2017_dir + test_2017_frame['image_dir'] + '.jpg'"
   ]
  },
  {
   "cell_type": "code",
   "execution_count": 91,
   "metadata": {},
   "outputs": [],
   "source": [
    "# from sklearn.model_selection import train_test_split\n",
    "# x_train, x_val, y_train, y_val = train_test_split(total_train['image_name'], total_train['target'], test_size = 0.2, shuffle = True, random_state = 316)\n",
    "# train_gen = pd.DataFrame({'image_dir': x_train, 'target': y_train})\n",
    "# val_gen = pd.DataFrame({'image_dir': x_val, 'target': y_val})\n",
    "\n"
   ]
  },
  {
   "cell_type": "code",
   "execution_count": 123,
   "metadata": {},
   "outputs": [],
   "source": [
    "from sklearn.model_selection import train_test_split\n",
    "x_train, x_val, y_train, y_val = train_test_split(MSKCC_frame['image_dir'], MSKCC_frame['target'], test_size = 0.2, shuffle = True, random_state = 316)\n",
    "train_gen = pd.DataFrame({'image_dir': x_train, 'target': y_train})\n",
    "val_gen = pd.DataFrame({'image_dir': x_val, 'target': y_val})\n"
   ]
  },
  {
   "cell_type": "code",
   "execution_count": 131,
   "metadata": {},
   "outputs": [],
   "source": [
    "from sklearn.model_selection import train_test_split\n",
    "x_train2, x_val2, y_train2, y_val2 = train_test_split(MSKCC_frame2['image_dir'], MSKCC_frame2['target'], test_size = 0.2, shuffle = True, random_state = 316)\n",
    "train_gen2 = pd.DataFrame({'image_dir': x_train2, 'target': y_train2})\n",
    "val_gen2 = pd.DataFrame({'image_dir': x_val2, 'target': y_val2})\n",
    "\n"
   ]
  },
  {
   "cell_type": "code",
   "execution_count": 24,
   "metadata": {},
   "outputs": [
    {
     "data": {
      "text/html": [
       "<div>\n",
       "<style scoped>\n",
       "    .dataframe tbody tr th:only-of-type {\n",
       "        vertical-align: middle;\n",
       "    }\n",
       "\n",
       "    .dataframe tbody tr th {\n",
       "        vertical-align: top;\n",
       "    }\n",
       "\n",
       "    .dataframe thead th {\n",
       "        text-align: right;\n",
       "    }\n",
       "</style>\n",
       "<table border=\"1\" class=\"dataframe\">\n",
       "  <thead>\n",
       "    <tr style=\"text-align: right;\">\n",
       "      <th></th>\n",
       "      <th>image_dir</th>\n",
       "      <th>target</th>\n",
       "    </tr>\n",
       "  </thead>\n",
       "  <tbody>\n",
       "    <tr>\n",
       "      <th>0</th>\n",
       "      <td>11392</td>\n",
       "      <td>0.0</td>\n",
       "    </tr>\n",
       "    <tr>\n",
       "      <th>1</th>\n",
       "      <td>271</td>\n",
       "      <td>0.0</td>\n",
       "    </tr>\n",
       "    <tr>\n",
       "      <th>2</th>\n",
       "      <td>37</td>\n",
       "      <td>0.0</td>\n",
       "    </tr>\n",
       "    <tr>\n",
       "      <th>3</th>\n",
       "      <td>9564</td>\n",
       "      <td>0.0</td>\n",
       "    </tr>\n",
       "    <tr>\n",
       "      <th>4</th>\n",
       "      <td>299</td>\n",
       "      <td>1.0</td>\n",
       "    </tr>\n",
       "    <tr>\n",
       "      <th>...</th>\n",
       "      <td>...</td>\n",
       "      <td>...</td>\n",
       "    </tr>\n",
       "    <tr>\n",
       "      <th>95</th>\n",
       "      <td>494</td>\n",
       "      <td>0.0</td>\n",
       "    </tr>\n",
       "    <tr>\n",
       "      <th>96</th>\n",
       "      <td>6193</td>\n",
       "      <td>0.0</td>\n",
       "    </tr>\n",
       "    <tr>\n",
       "      <th>97</th>\n",
       "      <td>518</td>\n",
       "      <td>1.0</td>\n",
       "    </tr>\n",
       "    <tr>\n",
       "      <th>98</th>\n",
       "      <td>7322</td>\n",
       "      <td>0.0</td>\n",
       "    </tr>\n",
       "    <tr>\n",
       "      <th>99</th>\n",
       "      <td>117</td>\n",
       "      <td>0.0</td>\n",
       "    </tr>\n",
       "  </tbody>\n",
       "</table>\n",
       "<p>100 rows × 2 columns</p>\n",
       "</div>"
      ],
      "text/plain": [
       "    image_dir  target\n",
       "0       11392     0.0\n",
       "1         271     0.0\n",
       "2          37     0.0\n",
       "3        9564     0.0\n",
       "4         299     1.0\n",
       "..        ...     ...\n",
       "95        494     0.0\n",
       "96       6193     0.0\n",
       "97        518     1.0\n",
       "98       7322     0.0\n",
       "99        117     0.0\n",
       "\n",
       "[100 rows x 2 columns]"
      ]
     },
     "execution_count": 24,
     "metadata": {},
     "output_type": "execute_result"
    }
   ],
   "source": [
    "benchmark_derm_csv.to_csv('clinic_csv/new_benchmark_derm.csv',index=False)\n",
    "pd.read_csv('/home/mikylab/cycleGan/clinic_csv/new_benchmark_derm.csv')"
   ]
  },
  {
   "cell_type": "code",
   "execution_count": 25,
   "metadata": {},
   "outputs": [
    {
     "data": {
      "text/html": [
       "<div>\n",
       "<style scoped>\n",
       "    .dataframe tbody tr th:only-of-type {\n",
       "        vertical-align: middle;\n",
       "    }\n",
       "\n",
       "    .dataframe tbody tr th {\n",
       "        vertical-align: top;\n",
       "    }\n",
       "\n",
       "    .dataframe thead th {\n",
       "        text-align: right;\n",
       "    }\n",
       "</style>\n",
       "<table border=\"1\" class=\"dataframe\">\n",
       "  <thead>\n",
       "    <tr style=\"text-align: right;\">\n",
       "      <th></th>\n",
       "      <th>image_dir</th>\n",
       "      <th>target</th>\n",
       "    </tr>\n",
       "  </thead>\n",
       "  <tbody>\n",
       "    <tr>\n",
       "      <th>0</th>\n",
       "      <td>19085</td>\n",
       "      <td>0</td>\n",
       "    </tr>\n",
       "    <tr>\n",
       "      <th>1</th>\n",
       "      <td>21457</td>\n",
       "      <td>0</td>\n",
       "    </tr>\n",
       "    <tr>\n",
       "      <th>2</th>\n",
       "      <td>21821</td>\n",
       "      <td>0</td>\n",
       "    </tr>\n",
       "    <tr>\n",
       "      <th>3</th>\n",
       "      <td>23559</td>\n",
       "      <td>0</td>\n",
       "    </tr>\n",
       "    <tr>\n",
       "      <th>4</th>\n",
       "      <td>896</td>\n",
       "      <td>1</td>\n",
       "    </tr>\n",
       "    <tr>\n",
       "      <th>...</th>\n",
       "      <td>...</td>\n",
       "      <td>...</td>\n",
       "    </tr>\n",
       "    <tr>\n",
       "      <th>95</th>\n",
       "      <td>2203387</td>\n",
       "      <td>0</td>\n",
       "    </tr>\n",
       "    <tr>\n",
       "      <th>96</th>\n",
       "      <td>2206231</td>\n",
       "      <td>0</td>\n",
       "    </tr>\n",
       "    <tr>\n",
       "      <th>97</th>\n",
       "      <td>307150</td>\n",
       "      <td>1</td>\n",
       "    </tr>\n",
       "    <tr>\n",
       "      <th>98</th>\n",
       "      <td>2207655</td>\n",
       "      <td>0</td>\n",
       "    </tr>\n",
       "    <tr>\n",
       "      <th>99</th>\n",
       "      <td>2209992-h</td>\n",
       "      <td>0</td>\n",
       "    </tr>\n",
       "  </tbody>\n",
       "</table>\n",
       "<p>100 rows × 2 columns</p>\n",
       "</div>"
      ],
      "text/plain": [
       "    image_dir  target\n",
       "0       19085       0\n",
       "1       21457       0\n",
       "2       21821       0\n",
       "3       23559       0\n",
       "4         896       1\n",
       "..        ...     ...\n",
       "95    2203387       0\n",
       "96    2206231       0\n",
       "97     307150       1\n",
       "98    2207655       0\n",
       "99  2209992-h       0\n",
       "\n",
       "[100 rows x 2 columns]"
      ]
     },
     "execution_count": 25,
     "metadata": {},
     "output_type": "execute_result"
    }
   ],
   "source": [
    "benchmark_clin_csv.to_csv('clinic_csv/new_benchmark_clin.csv',index=False)\n",
    "pd.read_csv('/home/mikylab/cycleGan/clinic_csv/new_benchmark_clin.csv')"
   ]
  },
  {
   "cell_type": "code",
   "execution_count": 132,
   "metadata": {},
   "outputs": [
    {
     "data": {
      "text/plain": [
       "(11108, 2)"
      ]
     },
     "execution_count": 132,
     "metadata": {},
     "output_type": "execute_result"
    }
   ],
   "source": [
    "MSKCC_frame2.shape"
   ]
  },
  {
   "cell_type": "code",
   "execution_count": 134,
   "metadata": {},
   "outputs": [
    {
     "data": {
      "text/plain": [
       "(35, 2)"
      ]
     },
     "execution_count": 134,
     "metadata": {},
     "output_type": "execute_result"
    }
   ],
   "source": [
    "val_gen2[val_gen2.target == 1].shape"
   ]
  },
  {
   "cell_type": "code",
   "execution_count": 130,
   "metadata": {},
   "outputs": [
    {
     "data": {
      "text/plain": [
       "(144, 2)"
      ]
     },
     "execution_count": 130,
     "metadata": {},
     "output_type": "execute_result"
    }
   ],
   "source": [
    "val_gen2.shape #BCN_frame_ben_train"
   ]
  },
  {
   "cell_type": "code",
   "execution_count": 56,
   "metadata": {},
   "outputs": [],
   "source": [
    "test_image_gen = ImageDataGenerator(rescale=1./255)"
   ]
  },
  {
   "cell_type": "code",
   "execution_count": 59,
   "metadata": {},
   "outputs": [
    {
     "name": "stdout",
     "output_type": "stream",
     "text": [
      "Found 144 validated image filenames.\n"
     ]
    }
   ],
   "source": [
    "Val_Data = test_image_gen.flow_from_dataframe(dataframe = val_gen,\n",
    "                                              x_col = 'image_dir', \n",
    "                                              y_col = 'target', \n",
    "                                              class_mode = 'raw',\n",
    "                                              target_size = (256, 256),\n",
    "                                              color_mode = 'rgb', \n",
    "                                              batch_size = 1, \n",
    "                                              seed = 316, \n",
    "                                              shuffle = True,\n",
    "#                                               subset = 'validation'\n",
    "                                    )"
   ]
  },
  {
   "cell_type": "code",
   "execution_count": 46,
   "metadata": {},
   "outputs": [
    {
     "name": "stdout",
     "output_type": "stream",
     "text": [
      "Found 378 validated image filenames.\n"
     ]
    }
   ],
   "source": [
    "Test_Data = test_image_gen.flow_from_dataframe(dataframe = total_test, \n",
    "                                              x_col = 'image_dir', \n",
    "                                              y_col = 'target', \n",
    "                                              class_mode = 'raw',\n",
    "                                              target_size = (256, 256),\n",
    "                                              color_mode = 'rgb', \n",
    "                                              batch_size = 1, \n",
    "                                              seed = 316, \n",
    "                                              shuffle = False,\n",
    "                                              )"
   ]
  },
  {
   "cell_type": "code",
   "execution_count": 47,
   "metadata": {},
   "outputs": [
    {
     "name": "stdout",
     "output_type": "stream",
     "text": [
      "Found 600 validated image filenames.\n"
     ]
    }
   ],
   "source": [
    "Test_Data_17 = test_image_gen.flow_from_dataframe(dataframe = test_2017_frame, \n",
    "                                              x_col = 'image_dir', \n",
    "                                              y_col = 'target', \n",
    "                                              class_mode = 'raw',\n",
    "                                              target_size = (256, 256),\n",
    "                                              color_mode = 'rgb', \n",
    "                                              batch_size = 1, \n",
    "                                              seed = 316, \n",
    "                                              shuffle = False\n",
    "                                              )"
   ]
  },
  {
   "cell_type": "code",
   "execution_count": 48,
   "metadata": {},
   "outputs": [
    {
     "name": "stdout",
     "output_type": "stream",
     "text": [
      "Found 100 validated image filenames.\n"
     ]
    }
   ],
   "source": [
    "Benchmark_Clinical = test_image_gen.flow_from_dataframe(dataframe = benchmark_clin_csv, \n",
    "                                              x_col = 'image_dir', \n",
    "                                              y_col = 'target', \n",
    "                                              class_mode = 'raw',\n",
    "                                              target_size = (256, 256),\n",
    "                                              color_mode = 'rgb', \n",
    "                                              batch_size = 1, \n",
    "                                              seed = 316, \n",
    "                                              shuffle = False\n",
    "                                              )"
   ]
  },
  {
   "cell_type": "code",
   "execution_count": 49,
   "metadata": {},
   "outputs": [
    {
     "name": "stdout",
     "output_type": "stream",
     "text": [
      "Found 100 validated image filenames.\n"
     ]
    }
   ],
   "source": [
    "Benchmark_Derm = test_image_gen.flow_from_dataframe(dataframe = benchmark_derm_csv, \n",
    "                                              x_col = 'image_dir', \n",
    "                                              y_col = 'target', \n",
    "                                              class_mode = 'raw',\n",
    "                                              target_size = (256, 256),\n",
    "                                              color_mode = 'rgb', \n",
    "                                              batch_size = 1, \n",
    "                                              seed = 316, \n",
    "                                              shuffle = False\n",
    "                                              )"
   ]
  },
  {
   "cell_type": "code",
   "execution_count": 50,
   "metadata": {},
   "outputs": [
    {
     "name": "stdout",
     "output_type": "stream",
     "text": [
      "Found 7311 validated image filenames.\n"
     ]
    }
   ],
   "source": [
    "BCN_Test = test_image_gen.flow_from_dataframe(dataframe = BCN_frame, \n",
    "                                              x_col = 'image_dir', \n",
    "                                              y_col = 'target', \n",
    "                                              class_mode = 'raw',\n",
    "                                              target_size = (256, 256),\n",
    "                                              color_mode = 'rgb', \n",
    "                                              batch_size = 1, \n",
    "                                              seed = 316, \n",
    "                                              shuffle = False,\n",
    "                                              )"
   ]
  },
  {
   "cell_type": "code",
   "execution_count": 51,
   "metadata": {},
   "outputs": [
    {
     "name": "stdout",
     "output_type": "stream",
     "text": [
      "Found 11108 validated image filenames.\n"
     ]
    }
   ],
   "source": [
    "MSKCC_frame = test_image_gen.flow_from_dataframe(dataframe = MSKCC_frame,\n",
    "                                              x_col = 'image_dir', \n",
    "                                              y_col = 'target', \n",
    "                                              class_mode = 'raw', \n",
    "                                              target_size = (256, 256),\n",
    "                                              color_mode = 'rgb', \n",
    "                                              batch_size = 1, \n",
    "                                              seed = 316, \n",
    "                                              shuffle = True,\n",
    "#                                               subset = 'training'\n",
    "                                    )"
   ]
  },
  {
   "cell_type": "code",
   "execution_count": 86,
   "metadata": {},
   "outputs": [],
   "source": [
    "load_model = tf.keras.models.load_model('models/cnn_melanoma_MSKCC_small_noweights_7.4.h5')\n",
    "\n"
   ]
  },
  {
   "cell_type": "code",
   "execution_count": 114,
   "metadata": {},
   "outputs": [],
   "source": [
    "from PIL import Image\n",
    "\n",
    "import array\n",
    "\n",
    "def predict_image(path):\n",
    "    image = np.asarray(Image.open(path))\n",
    "    expand_img = np.expand_dims(image, axis = 0)/255.\n",
    "    prediction = load_model.predict(expand_img) \n",
    "    return image, prediction[0][0]\n"
   ]
  },
  {
   "cell_type": "code",
   "execution_count": null,
   "metadata": {},
   "outputs": [],
   "source": [
    "image_BCN_train = ['ISIC_8542407.jpg', 'ISIC_7633960.jpg', 'ISIC_9752016.jpg', 'ISIC_8202626.jpg']\n",
    "transformed = ['predicted_img_0.png', 'predicted_img_1.png', 'predicted_img_2.png', 'predicted_img_3.png']\n",
    "\n",
    "pathB = '/home/mikylab/datasets/cycleGan/trainB/'\n",
    "pathB_pred = '/home/mikylab/cycleGan/predicted_MSKCC/'\n",
    "\n",
    "image_MSKCC_train = ['ISIC_4944690.jpg', 'ISIC_5874721.jpg', 'ISIC_9281339.jpg', 'ISIC_7566403.jpg']\n",
    "\n",
    "image_MSKCC_test = ['ISIC_2401705.jpg', 'ISIC_5834451.jpg', 'ISIC_3332704.jpg', 'ISIC_2003272.jpg']\n",
    "\n",
    "image_BCN_test = ['ISIC_4813830.jpg', 'ISIC_2347991.jpg', 'ISIC_1092604.jpg', 'ISIC_6067663.jpg']\n",
    "\n",
    "\n",
    "\n",
    "pathA = '/home/mikylab/datasets/cycleGan/trainA/'\n",
    "pathA_pred = '/home/mikylab/cycleGan/predicted_BCN/'\n",
    "\n",
    "pathA_test = '/home/mikylab/datasets/cycleGan/testA/'\n",
    "pathB_test = '/home/mikylab/datasets/cycleGan/testB/'\n",
    "\n",
    "# for i in transformed:\n",
    "#     prediction = predict_image(pathB_pred + i)\n",
    "#     print(prediction)\n",
    "\n",
    "image, prediction = predict_image(pathB_test + image_BCN_test[2])\n",
    "plt.imshow(image)\n",
    "print(prediction)"
   ]
  },
  {
   "cell_type": "code",
   "execution_count": 27,
   "metadata": {},
   "outputs": [
    {
     "name": "stdout",
     "output_type": "stream",
     "text": [
      "[0]\n"
     ]
    }
   ],
   "source": [
    "train_x, train_y = Benchmark_Clinical.next()\n",
    "train_x_new = train_x[0,:, :]\n",
    "# plt.imshow(train_x_new)\n",
    "print(train_y)"
   ]
  },
  {
   "cell_type": "code",
   "execution_count": null,
   "metadata": {},
   "outputs": [],
   "source": []
  },
  {
   "cell_type": "code",
   "execution_count": 87,
   "metadata": {},
   "outputs": [],
   "source": [
    "METRICS = [\n",
    "      tf.keras.metrics.TruePositives(name='tp'),\n",
    "      tf.keras.metrics.FalsePositives(name='fp'),\n",
    "      tf.keras.metrics.TrueNegatives(name='tn'),\n",
    "      tf.keras.metrics.FalseNegatives(name='fn'), \n",
    "      tf.keras.metrics.BinaryAccuracy(name='accuracy'),\n",
    "      tf.keras.metrics.Precision(name='precision'),\n",
    "      tf.keras.metrics.Recall(name='recall'),\n",
    "      tf.keras.metrics.AUC(name='auc'),\n",
    "      tf.keras.metrics.AUC(name='prc', curve='PR'), # precision-recall curve\n",
    "#       tf.keras.metrics.SpecificityAtSensitivity(.82)\n",
    "]\n",
    "opt = tf.keras.optimizers.Adam(learning_rate = 1e-5 )#1e-5)\n",
    "\n",
    "load_model.compile(loss='binary_crossentropy', metrics=METRICS,optimizer=opt)\n",
    "\n",
    "\n"
   ]
  },
  {
   "cell_type": "code",
   "execution_count": 52,
   "metadata": {},
   "outputs": [
    {
     "name": "stdout",
     "output_type": "stream",
     "text": [
      "11108/11108 [==============================] - 599s 54ms/step - loss: 0.1356 - tp: 82.0000 - fp: 381.0000 - tn: 10511.0000 - fn: 134.0000 - accuracy: 0.9536 - precision: 0.1771 - recall: 0.3796 - auc: 0.8845 - prc: 0.1664\n"
     ]
    },
    {
     "data": {
      "text/plain": [
       "[0.1355852633714676,\n",
       " 82.0,\n",
       " 381.0,\n",
       " 10511.0,\n",
       " 134.0,\n",
       " 0.9536370038986206,\n",
       " 0.1771058291196823,\n",
       " 0.37962964177131653,\n",
       " 0.8845010995864868,\n",
       " 0.16635377705097198]"
      ]
     },
     "execution_count": 52,
     "metadata": {},
     "output_type": "execute_result"
    }
   ],
   "source": [
    "load_model.evaluate(MSKCC_frame)"
   ]
  },
  {
   "cell_type": "code",
   "execution_count": 50,
   "metadata": {
    "scrolled": true
   },
   "outputs": [
    {
     "name": "stdout",
     "output_type": "stream",
     "text": [
      "100/100 [==============================] - 3s 17ms/step - loss: 0.4758 - tp: 10.0000 - fp: 15.0000 - tn: 65.0000 - fn: 10.0000 - accuracy: 0.7500 - precision: 0.4000 - recall: 0.5000 - auc: 0.7603 - prc: 0.5449\n"
     ]
    },
    {
     "data": {
      "text/plain": [
       "[0.4758182168006897,\n",
       " 10.0,\n",
       " 15.0,\n",
       " 65.0,\n",
       " 10.0,\n",
       " 0.75,\n",
       " 0.4000000059604645,\n",
       " 0.5,\n",
       " 0.7603124976158142,\n",
       " 0.5448906421661377]"
      ]
     },
     "execution_count": 50,
     "metadata": {},
     "output_type": "execute_result"
    }
   ],
   "source": [
    "load_model.evaluate(Benchmark_Clinical)"
   ]
  },
  {
   "cell_type": "code",
   "execution_count": 47,
   "metadata": {},
   "outputs": [
    {
     "name": "stdout",
     "output_type": "stream",
     "text": [
      "100/100 [==============================] - 4s 23ms/step - loss: 0.8243 - tp: 7.0000 - fp: 17.0000 - tn: 63.0000 - fn: 13.0000 - accuracy: 0.7000 - precision: 0.2917 - recall: 0.3500 - auc: 0.6444 - prc: 0.2576\n"
     ]
    },
    {
     "data": {
      "text/plain": [
       "[0.824307382106781,\n",
       " 7.0,\n",
       " 17.0,\n",
       " 63.0,\n",
       " 13.0,\n",
       " 0.699999988079071,\n",
       " 0.2916666567325592,\n",
       " 0.3499999940395355,\n",
       " 0.6443749666213989,\n",
       " 0.2576151490211487]"
      ]
     },
     "execution_count": 47,
     "metadata": {},
     "output_type": "execute_result"
    }
   ],
   "source": [
    "load_model.evaluate(Benchmark_Derm)"
   ]
  },
  {
   "cell_type": "code",
   "execution_count": 53,
   "metadata": {},
   "outputs": [
    {
     "data": {
      "image/png": "[encoded data removed]",
      "text/plain": [
       "<Figure size 432x288 with 1 Axes>"
      ]
     },
     "metadata": {
      "needs_background": "light"
     },
     "output_type": "display_data"
    }
   ],
   "source": [
    "array = load_model.predict(Benchmark_Clinical)"
   ]
  },
  {
   "cell_type": "code",
   "execution_count": 140,
   "metadata": {},
   "outputs": [
    {
     "data": {
      "image/png": "[encoded data removed]",
      "text/plain": [
       "<Figure size 432x288 with 1 Axes>"
      ]
     },
     "metadata": {
      "needs_background": "light"
     },
     "output_type": "display_data"
    }
   ],
   "source": [
    "plt.scatter(benchmark_clin_csv['image_dir'], array, label ='Predicted')\n",
    "plt.scatter(benchmark_clin_csv['image_dir'], benchmark_clin_csv['target'], color = 'Maroon', label = 'Ground_Truth')\n",
    "plt.axhline(y=0.5, color='green', linestyle='-')\n",
    "plt.legend()\n",
    "\n",
    "ax = plt.gca()\n",
    "ax.axes.xaxis.set_visible(False)\n",
    "ax.axes.yaxis.set_visible(True)\n",
    "\n",
    "plt.show()"
   ]
  },
  {
   "cell_type": "code",
   "execution_count": 139,
   "metadata": {},
   "outputs": [
    {
     "data": {
      "text/plain": [
       "80    1.0\n",
       "81    0.0\n",
       "82    0.0\n",
       "83    0.0\n",
       "84    0.0\n",
       "85    0.0\n",
       "86    1.0\n",
       "87    0.0\n",
       "88    0.0\n",
       "89    0.0\n",
       "90    0.0\n",
       "91    1.0\n",
       "92    0.0\n",
       "93    1.0\n",
       "94    0.0\n",
       "95    0.0\n",
       "96    0.0\n",
       "97    1.0\n",
       "98    0.0\n",
       "99    0.0\n",
       "Name: target, dtype: float64"
      ]
     },
     "execution_count": 139,
     "metadata": {},
     "output_type": "execute_result"
    }
   ],
   "source": [
    "benchmark_derm_csv['target'][80:100]"
   ]
  },
  {
   "cell_type": "code",
   "execution_count": 39,
   "metadata": {},
   "outputs": [],
   "source": [
    "predicted_labels_base = load_model.predict(Benchmark_Derm)\n",
    "true_labels_base =benchmark_derm_csv['target'].to_numpy().reshape(100,)\n",
    "predicted_labels_base =predicted_labels_base.squeeze()"
   ]
  },
  {
   "cell_type": "code",
   "execution_count": 86,
   "metadata": {},
   "outputs": [
    {
     "name": "stdout",
     "output_type": "stream",
     "text": [
      "(256, 256, 3)\n"
     ]
    },
    {
     "data": {
      "image/png": "[encoded data removed]",
      "text/plain": [
       "<Figure size 432x288 with 2 Axes>"
      ]
     },
     "metadata": {
      "needs_background": "light"
     },
     "output_type": "display_data"
    }
   ],
   "source": [
    "def show_img_gen(generator, color):\n",
    "    for i in range(0,1):\n",
    "        image = generator[i] \n",
    "        if (color == \"grayscale\"):\n",
    "            newimage = reshape(image,(256,256))\n",
    "            plt.imshow(newimage, cmap = 'gray')\n",
    "            plt.colorbar()\n",
    "        elif (color == \"color\"):\n",
    "            print(image[0][0,:, :].shape)\n",
    "            plt.imshow(image[0][0,:, :])\n",
    "            plt.colorbar()\n",
    "\n",
    "show_img_gen(Benchmark_Derm, 'color')"
   ]
  },
  {
   "cell_type": "code",
   "execution_count": 91,
   "metadata": {},
   "outputs": [
    {
     "data": {
      "text/plain": [
       "'/home/mikylab/cycleGan/BenchmarkDermoscopic/test/271.jpg'"
      ]
     },
     "execution_count": 91,
     "metadata": {},
     "output_type": "execute_result"
    }
   ],
   "source": [
    "benchmark_derm_csv.iloc[1, 0]"
   ]
  },
  {
   "cell_type": "code",
   "execution_count": 40,
   "metadata": {},
   "outputs": [],
   "source": [
    "predicted_labels_base_clin = load_model.predict(Benchmark_Clinical)\n",
    "true_labels_base_clin =benchmark_clin_csv['target'].to_numpy().reshape(100,)\n",
    "predicted_labels_base_clin =predicted_labels_base_clin.squeeze()"
   ]
  },
  {
   "cell_type": "code",
   "execution_count": 48,
   "metadata": {},
   "outputs": [],
   "source": [
    "predicted_labels_test = load_model.predict(Test_Data)"
   ]
  },
  {
   "cell_type": "code",
   "execution_count": 49,
   "metadata": {},
   "outputs": [],
   "source": [
    "true_labels_test =total_test['target'].to_numpy().reshape(378,)\n",
    "predicted_labels_test =predicted_labels_test.squeeze()"
   ]
  },
  {
   "cell_type": "code",
   "execution_count": 50,
   "metadata": {},
   "outputs": [],
   "source": [
    "predicted_labels_test_17 = load_model.predict(Test_Data_17)\n",
    "true_labels_test_17 =test_2017_frame['target'].to_numpy().reshape(600,)\n",
    "predicted_labels_test_17 =predicted_labels_test_17.squeeze()"
   ]
  },
  {
   "cell_type": "code",
   "execution_count": null,
   "metadata": {},
   "outputs": [],
   "source": [
    "predicted_labels_val = load_model.predict(Val_Data)"
   ]
  },
  {
   "cell_type": "code",
   "execution_count": null,
   "metadata": {},
   "outputs": [],
   "source": [
    "true_labels_val =val_gen['target'].to_numpy().reshape(517,)\n",
    "predicted_labels_val =predicted_labels_val.squeeze()"
   ]
  },
  {
   "cell_type": "code",
   "execution_count": 45,
   "metadata": {},
   "outputs": [],
   "source": [
    "import sklearn"
   ]
  },
  {
   "cell_type": "code",
   "execution_count": 46,
   "metadata": {},
   "outputs": [],
   "source": [
    "from sklearn import metrics\n",
    "def plot_roc(name, labels, predictions, **kwargs):\n",
    "    fp, tp, _ = sklearn.metrics.roc_curve(labels, predictions)\n",
    "    plt.plot(100*fp, 100*tp, label=name, linewidth=2, **kwargs)\n",
    "    plt.xlabel('False positives [%]')\n",
    "    plt.ylabel('True positives [%]')\n",
    "#     plt.xlim([-0.5,20])\n",
    "#     plt.ylim([80,100.5])\n",
    "    plt.grid(True)\n",
    "    ax = plt.gca()\n",
    "    ax.set_aspect('equal')\n",
    "colors = plt.rcParams['axes.prop_cycle'].by_key()['color']"
   ]
  },
  {
   "cell_type": "code",
   "execution_count": 51,
   "metadata": {},
   "outputs": [
    {
     "data": {
      "text/plain": [
       "<matplotlib.legend.Legend at 0x7fbf08438880>"
      ]
     },
     "execution_count": 51,
     "metadata": {},
     "output_type": "execute_result"
    },
    {
     "data": {
      "image/png": "[encoded data removed]",
      "text/plain": [
       "<Figure size 432x288 with 1 Axes>"
      ]
     },
     "metadata": {
      "needs_background": "light"
     },
     "output_type": "display_data"
    }
   ],
   "source": [
    "colors = plt.rcParams['axes.prop_cycle'].by_key()['color']\n",
    "# plot_roc(\"Val Baseline\", true_labels_val, predicted_labels_val, color=colors[0], linestyle='--')\n",
    "plot_roc(\"Test 2016 Baseline\", true_labels_test, predicted_labels_test, color=colors[1])\n",
    "plot_roc(\"Test 2017 Baseline\", true_labels_test_17, predicted_labels_test_17, color=colors[2])\n",
    "\n",
    "plt.legend(loc='lower right')"
   ]
  },
  {
   "cell_type": "code",
   "execution_count": 47,
   "metadata": {},
   "outputs": [
    {
     "data": {
      "text/plain": [
       "<matplotlib.legend.Legend at 0x7fbf084d8bb0>"
      ]
     },
     "execution_count": 47,
     "metadata": {},
     "output_type": "execute_result"
    },
    {
     "data": {
      "image/png": "[encoded data removed]",
      "text/plain": [
       "<Figure size 432x288 with 1 Axes>"
      ]
     },
     "metadata": {
      "needs_background": "light"
     },
     "output_type": "display_data"
    }
   ],
   "source": [
    "plot_roc(\"Dermoscopic Baseline\", true_labels_base, predicted_labels_base, color=colors[0])\n",
    "plot_roc(\"Non-Dermoscopic Baseline\", true_labels_base_clin, predicted_labels_base_clin, color=colors[1], linestyle='--')\n",
    "plt.legend(loc='lower right')\n"
   ]
  },
  {
   "cell_type": "code",
   "execution_count": null,
   "metadata": {},
   "outputs": [],
   "source": []
  }
 ],
 "metadata": {
  "kernelspec": {
   "display_name": "Python 3",
   "language": "python",
   "name": "python3"
  },
  "language_info": {
   "codemirror_mode": {
    "name": "ipython",
    "version": 3
   },
   "file_extension": ".py",
   "mimetype": "text/x-python",
   "name": "python",
   "nbconvert_exporter": "python",
   "pygments_lexer": "ipython3",
   "version": "3.8.10"
  }
 },
 "nbformat": 4,
 "nbformat_minor": 4
}
