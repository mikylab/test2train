{
 "cells": [
  {
   "cell_type": "code",
   "execution_count": 1,
   "metadata": {},
   "outputs": [],
   "source": [
    "import numpy as np\n",
    "import tensorflow as tf\n",
    "import pandas as pd\n",
    "import matplotlib.pyplot as plt\n",
    "import efficientnet.tfkeras as efn "
   ]
  },
  {
   "cell_type": "code",
   "execution_count": 2,
   "metadata": {},
   "outputs": [
    {
     "name": "stdout",
     "output_type": "stream",
     "text": [
      "Num GPUs Available:  2\n",
      "2 Physical GPUs, 2 Logical GPUs\n"
     ]
    }
   ],
   "source": [
    "print(\"Num GPUs Available: \", len(tf.config.experimental.list_physical_devices('GPU')))\n",
    "\n",
    "gpus = tf.config.experimental.list_physical_devices('GPU')\n",
    "if gpus:\n",
    "  try:\n",
    "    # Currently, memory growth needs to be the same across GPUs\n",
    "    for gpu in gpus:\n",
    "      tf.config.experimental.set_memory_growth(gpu, True)\n",
    "    logical_gpus = tf.config.experimental.list_logical_devices('GPU')\n",
    "    print(len(gpus), \"Physical GPUs,\", len(logical_gpus), \"Logical GPUs\")\n",
    "  except RuntimeError as e:\n",
    "    # Memory growth must be set before GPUs have been initialized\n",
    "    print(e)"
   ]
  },
  {
   "cell_type": "code",
   "execution_count": 3,
   "metadata": {},
   "outputs": [],
   "source": [
    "train_dir = '/home/mikylab/cycleGan/melanomaImages/train/'\n",
    "train_csv = pd.read_csv('/home/mikylab/cycleGan/train.csv')\n",
    "\n",
    "test_dir = '/home/mikylab/cycleGan/2016_test_data/'\n",
    "test_csv = pd.read_csv('/home/mikylab/cycleGan/ISBI2016_GroundTruth.csv')\n",
    "train_csv.shape\n",
    "\n",
    "test_2017_dir = '/home/mikylab/cycleGan/ISIC-2017_TestData/'\n",
    "test_2017_csv = pd.read_csv('/home/mikylab/cycleGan/ISIC-2017_Test_GroundTruth.csv')"
   ]
  },
  {
   "cell_type": "code",
   "execution_count": 4,
   "metadata": {},
   "outputs": [
    {
     "name": "stdout",
     "output_type": "stream",
     "text": [
      "Melanoma Classification:\n",
      "    Total: 33126\n",
      "    Positive: 584 (1.76% of total)\n",
      "\n"
     ]
    }
   ],
   "source": [
    "neg, pos = np.bincount(train_csv['target'])\n",
    "total = neg + pos\n",
    "print('Melanoma Classification:\\n    Total: {}\\n    Positive: {} ({:.2f}% of total)\\n'.format(\n",
    "    total, pos, 100 * pos / total))"
   ]
  },
  {
   "cell_type": "code",
   "execution_count": 5,
   "metadata": {},
   "outputs": [],
   "source": [
    "from tensorflow.python.keras.preprocessing.image import ImageDataGenerator"
   ]
  },
  {
   "cell_type": "code",
   "execution_count": 16,
   "metadata": {},
   "outputs": [],
   "source": [
    "mal_train = train_csv[train_csv['target']==1]\n",
    "ben_train = train_csv[train_csv['target']==0]#.sample(n=2000, random_state = 316)"
   ]
  },
  {
   "cell_type": "code",
   "execution_count": 17,
   "metadata": {},
   "outputs": [],
   "source": [
    "#combine and change image_name to directory values\n",
    "total_train =  pd.concat([mal_train, ben_train], ignore_index=True, sort =False)\n",
    "total_train['image_name'] = train_dir + total_train['image_name'] + '.jpg'\n",
    "\n",
    "#remove unnecessary columns\n",
    "total_train = total_train.drop(['patient_id', 'sex', 'age_approx', 'anatom_site_general_challenge', 'diagnosis', 'benign_malignant'], axis = 1)"
   ]
  },
  {
   "cell_type": "code",
   "execution_count": 18,
   "metadata": {},
   "outputs": [],
   "source": [
    "total_test = pd.DataFrame({'image_dir': test_csv['ISIC_0000003'], 'target': test_csv['0.0']})"
   ]
  },
  {
   "cell_type": "code",
   "execution_count": 19,
   "metadata": {},
   "outputs": [],
   "source": [
    "total_test['image_dir'] = test_dir + total_test['image_dir'] + '.jpg'"
   ]
  },
  {
   "cell_type": "code",
   "execution_count": 20,
   "metadata": {},
   "outputs": [],
   "source": [
    "test_2017_frame = pd.DataFrame({'image_dir': test_2017_csv['image_id'], 'target': test_2017_csv['melanoma']})"
   ]
  },
  {
   "cell_type": "code",
   "execution_count": 21,
   "metadata": {},
   "outputs": [],
   "source": [
    "test_2017_frame['image_dir'] = test_2017_dir + test_2017_frame['image_dir'] + '.jpg'"
   ]
  },
  {
   "cell_type": "code",
   "execution_count": 22,
   "metadata": {},
   "outputs": [
    {
     "name": "stdout",
     "output_type": "stream",
     "text": [
      "Melanoma Classification:\n",
      "    Total: 33126\n",
      "    Positive: 584 (1.76% of total)\n",
      "\n"
     ]
    }
   ],
   "source": [
    "neg, pos = np.bincount(total_train['target'])\n",
    "total = neg + pos\n",
    "print('Melanoma Classification:\\n    Total: {}\\n    Positive: {} ({:.2f}% of total)\\n'.format(\n",
    "    total, pos, 100 * pos / total))"
   ]
  },
  {
   "cell_type": "code",
   "execution_count": 23,
   "metadata": {},
   "outputs": [],
   "source": [
    "from sklearn.model_selection import train_test_split\n",
    "x_train, x_val, y_train, y_val = train_test_split(total_train['image_name'], total_train['target'], test_size = 0.2, shuffle = True, random_state = 316)\n",
    "train_gen = pd.DataFrame({'image_dir': x_train, 'target': y_train})\n",
    "val_gen = pd.DataFrame({'image_dir': x_val, 'target': y_val})\n"
   ]
  },
  {
   "cell_type": "code",
   "execution_count": 24,
   "metadata": {},
   "outputs": [
    {
     "name": "stdout",
     "output_type": "stream",
     "text": [
      "Weight for class 0: 0.51\n",
      "Weight for class 1: 28.36\n"
     ]
    }
   ],
   "source": [
    "# Scaling by total/2 helps keep the loss to a similar magnitude.\n",
    "# The sum of the weights of all examples stays the same.\n",
    "weight_for_0 = (1 / neg) * (total / 2.0)\n",
    "weight_for_1 = (1 / pos) * (total / 2.0)\n",
    "\n",
    "class_weight = {0: weight_for_0, 1: weight_for_1}\n",
    "\n",
    "print('Weight for class 0: {:.2f}'.format(weight_for_0))\n",
    "print('Weight for class 1: {:.2f}'.format(weight_for_1))"
   ]
  },
  {
   "cell_type": "code",
   "execution_count": 25,
   "metadata": {},
   "outputs": [
    {
     "data": {
      "text/html": [
       "<div>\n",
       "<style scoped>\n",
       "    .dataframe tbody tr th:only-of-type {\n",
       "        vertical-align: middle;\n",
       "    }\n",
       "\n",
       "    .dataframe tbody tr th {\n",
       "        vertical-align: top;\n",
       "    }\n",
       "\n",
       "    .dataframe thead th {\n",
       "        text-align: right;\n",
       "    }\n",
       "</style>\n",
       "<table border=\"1\" class=\"dataframe\">\n",
       "  <thead>\n",
       "    <tr style=\"text-align: right;\">\n",
       "      <th></th>\n",
       "      <th>image_dir</th>\n",
       "      <th>target</th>\n",
       "    </tr>\n",
       "  </thead>\n",
       "  <tbody>\n",
       "    <tr>\n",
       "      <th>27574</th>\n",
       "      <td>/home/mikylab/cycleGan/melanomaImages/train/IS...</td>\n",
       "      <td>0</td>\n",
       "    </tr>\n",
       "    <tr>\n",
       "      <th>17581</th>\n",
       "      <td>/home/mikylab/cycleGan/melanomaImages/train/IS...</td>\n",
       "      <td>0</td>\n",
       "    </tr>\n",
       "    <tr>\n",
       "      <th>22558</th>\n",
       "      <td>/home/mikylab/cycleGan/melanomaImages/train/IS...</td>\n",
       "      <td>0</td>\n",
       "    </tr>\n",
       "    <tr>\n",
       "      <th>22737</th>\n",
       "      <td>/home/mikylab/cycleGan/melanomaImages/train/IS...</td>\n",
       "      <td>0</td>\n",
       "    </tr>\n",
       "    <tr>\n",
       "      <th>977</th>\n",
       "      <td>/home/mikylab/cycleGan/melanomaImages/train/IS...</td>\n",
       "      <td>0</td>\n",
       "    </tr>\n",
       "    <tr>\n",
       "      <th>...</th>\n",
       "      <td>...</td>\n",
       "      <td>...</td>\n",
       "    </tr>\n",
       "    <tr>\n",
       "      <th>11634</th>\n",
       "      <td>/home/mikylab/cycleGan/melanomaImages/train/IS...</td>\n",
       "      <td>0</td>\n",
       "    </tr>\n",
       "    <tr>\n",
       "      <th>920</th>\n",
       "      <td>/home/mikylab/cycleGan/melanomaImages/train/IS...</td>\n",
       "      <td>0</td>\n",
       "    </tr>\n",
       "    <tr>\n",
       "      <th>9824</th>\n",
       "      <td>/home/mikylab/cycleGan/melanomaImages/train/IS...</td>\n",
       "      <td>0</td>\n",
       "    </tr>\n",
       "    <tr>\n",
       "      <th>29502</th>\n",
       "      <td>/home/mikylab/cycleGan/melanomaImages/train/IS...</td>\n",
       "      <td>0</td>\n",
       "    </tr>\n",
       "    <tr>\n",
       "      <th>17213</th>\n",
       "      <td>/home/mikylab/cycleGan/melanomaImages/train/IS...</td>\n",
       "      <td>0</td>\n",
       "    </tr>\n",
       "  </tbody>\n",
       "</table>\n",
       "<p>26500 rows × 2 columns</p>\n",
       "</div>"
      ],
      "text/plain": [
       "                                               image_dir  target\n",
       "27574  /home/mikylab/cycleGan/melanomaImages/train/IS...       0\n",
       "17581  /home/mikylab/cycleGan/melanomaImages/train/IS...       0\n",
       "22558  /home/mikylab/cycleGan/melanomaImages/train/IS...       0\n",
       "22737  /home/mikylab/cycleGan/melanomaImages/train/IS...       0\n",
       "977    /home/mikylab/cycleGan/melanomaImages/train/IS...       0\n",
       "...                                                  ...     ...\n",
       "11634  /home/mikylab/cycleGan/melanomaImages/train/IS...       0\n",
       "920    /home/mikylab/cycleGan/melanomaImages/train/IS...       0\n",
       "9824   /home/mikylab/cycleGan/melanomaImages/train/IS...       0\n",
       "29502  /home/mikylab/cycleGan/melanomaImages/train/IS...       0\n",
       "17213  /home/mikylab/cycleGan/melanomaImages/train/IS...       0\n",
       "\n",
       "[26500 rows x 2 columns]"
      ]
     },
     "execution_count": 25,
     "metadata": {},
     "output_type": "execute_result"
    }
   ],
   "source": [
    "train_gen"
   ]
  },
  {
   "cell_type": "code",
   "execution_count": 26,
   "metadata": {},
   "outputs": [
    {
     "data": {
      "text/plain": [
       "12886    0\n",
       "26071    0\n",
       "21497    0\n",
       "7310     0\n",
       "6550     0\n",
       "        ..\n",
       "14080    0\n",
       "4980     0\n",
       "29906    0\n",
       "26689    0\n",
       "1441     0\n",
       "Name: target, Length: 6626, dtype: int16"
      ]
     },
     "execution_count": 26,
     "metadata": {},
     "output_type": "execute_result"
    }
   ],
   "source": [
    "train_gen['target'].astype(dtype = 'int16')\n",
    "val_gen['target'].astype(dtype = 'int16')"
   ]
  },
  {
   "cell_type": "code",
   "execution_count": 27,
   "metadata": {},
   "outputs": [],
   "source": [
    "from albumentations import (Compose, GaussNoise, Blur, \n",
    "                            Affine, Perspective,Sharpen, Superpixels,\n",
    "                            CenterCrop, ChannelDropout, ChannelShuffle, \n",
    "                            CLAHE, CoarseDropout, Downscale, \n",
    "                            ElasticTransform, Equalize, FancyPCA, \n",
    "                            Flip, GaussianBlur, GlassBlur, \n",
    "                            GridDistortion, GridDropout, Posterize, \n",
    "                            RandomBrightness, RandomContrast, RandomFog, #RandomBrightnessContrast,\n",
    "                            RandomGamma, \n",
    "                            RandomGridShuffle, #RandomRain, RandomShow, Transpose\n",
    "                            RandomShadow, RandomRotate90, #RandomResizedCrop\n",
    "                            \n",
    "                            VerticalFlip, HorizontalFlip, RandomBrightness, RandomContrast, \n",
    "                            OpticalDistortion, HueSaturationValue, ShiftScaleRotate, Cutout, OneOf,\n",
    "                            ColorJitter\n",
    "                           )"
   ]
  },
  {
   "cell_type": "code",
   "execution_count": 28,
   "metadata": {},
   "outputs": [],
   "source": [
    "# AUGMENTATIONS = Compose([CLAHE(p=1),\n",
    "#                         #CoarseDropout(max_holes=5, max_height=24, max_width=40, min_holes = 2, min_height = 10, min_width = 30, fill_value=0), no p so remove\n",
    "#                         ElasticTransform(alpha=1, sigma=50, alpha_affine=50, interpolation=1, border_mode=4, value=None, mask_value=None, always_apply=False, approximate=False, p=0.2),\n",
    "#                         #Equalize(mode='cv', by_channels=True, mask=None, mask_params=()),\n",
    "#                         FancyPCA(alpha=0.1, p=0.2),\n",
    "#                         Flip(p=0.2),\n",
    "#                         GaussianBlur(blur_limit=7, p=0.2),\n",
    "#                         GaussNoise(var_limit=(10.0, 50.0), mean=0, p=0.2),\n",
    "#                         #GlassBlur(sigma=0.7, max_delta=4, iterations=2, mode='fast')\n",
    "#                         GridDistortion(num_steps=5, distort_limit=0.3, interpolation=1, border_mode=4, value=None, mask_value=None, p=0.2),\n",
    "#                         RandomRotate90(p=0.3),\n",
    "                         \n",
    "# #                         Affine(p=.02),\n",
    "# #                         RandomGamma(gamma_limit=(80,120), p=0.1),\n",
    "# #                         Superpixels(p=0.2)\n",
    "                        \n",
    "#                         ])"
   ]
  },
  {
   "cell_type": "code",
   "execution_count": 29,
   "metadata": {},
   "outputs": [
    {
     "name": "stderr",
     "output_type": "stream",
     "text": [
      "/home/mikylab/.local/lib/python3.8/site-packages/albumentations/augmentations/transforms.py:1699: FutureWarning: This class has been deprecated. Please use RandomBrightnessContrast\n",
      "  warnings.warn(\n",
      "/home/mikylab/.local/lib/python3.8/site-packages/albumentations/augmentations/transforms.py:1725: FutureWarning: This class has been deprecated. Please use RandomBrightnessContrast\n",
      "  warnings.warn(\n",
      "/home/mikylab/.local/lib/python3.8/site-packages/albumentations/augmentations/transforms.py:643: FutureWarning: This class has been deprecated. Please use CoarseDropout\n",
      "  warnings.warn(\n"
     ]
    }
   ],
   "source": [
    "AUGMENTATIONS = Compose([\n",
    "                        VerticalFlip(p =.5), \n",
    "                        HorizontalFlip(p =.5),\n",
    "                        RandomBrightness(p = .5), \n",
    "                        RandomContrast(p =.5), \n",
    "                        OneOf([\n",
    "                            OpticalDistortion(distort_limit =1.0), \n",
    "                            GridDistortion(num_steps=5, distort_limit = 1.), \n",
    "                            ElasticTransform(alpha=3),\n",
    "                        ]),\n",
    "                        CLAHE(clip_limit=4.0, p=0.7), \n",
    "                        HueSaturationValue(hue_shift_limit = 10, sat_shift_limit= 20, val_shift_limit = 10, p = .5), \n",
    "                        ShiftScaleRotate (shift_limit = 0.2, scale_limit = 0.1, rotate_limit = 15, border_mode = 0, p = .85), \n",
    "                        Cutout(max_h_size = int(256*.375), max_w_size = int(256*.375), num_holes =1, p = 0.7), \n",
    "                        \n",
    "                        \n",
    "#                         GaussianBlur(blur_limit=7, p=0.2),\n",
    "#                         GaussNoise(var_limit=(10.0, 50.0), mean=0, p=0.2)\n",
    "                        Affine(scale = [0.7, 1.3],  translate_percent = .25, rotate = [-360, 360], shear = [0, 20]),\n",
    "                        ColorJitter(brightness=[0.9, 1.1], contrast=[0.9, 1.1], saturation=[0.9, 1.1], hue=[0, .2], always_apply=False, p=0.5)\n",
    "    \n",
    "])\n",
    "\n"
   ]
  },
  {
   "cell_type": "code",
   "execution_count": 30,
   "metadata": {},
   "outputs": [],
   "source": [
    "from ImageDataAugmentor.image_data_augmentor import *"
   ]
  },
  {
   "cell_type": "code",
   "execution_count": 31,
   "metadata": {},
   "outputs": [],
   "source": [
    "train_image_gen = ImageDataAugmentor(rescale=1./255,\n",
    "                                     augment = AUGMENTATIONS\n",
    "                                    )"
   ]
  },
  {
   "cell_type": "code",
   "execution_count": 32,
   "metadata": {},
   "outputs": [],
   "source": [
    "# train_image_gen = ImageDataGenerator(rescale=1./255, \n",
    "#                             rotation_range = 360, \n",
    "#                             horizontal_flip = True, \n",
    "#                             vertical_flip = True, \n",
    "#                             brightness_range = [0.7, 1.3]\n",
    "#                               )\n",
    "\n",
    "test_image_gen = ImageDataGenerator(rescale=1./255)"
   ]
  },
  {
   "cell_type": "code",
   "execution_count": 33,
   "metadata": {},
   "outputs": [
    {
     "name": "stdout",
     "output_type": "stream",
     "text": [
      "Found 26500 validated image filenames.\n",
      "Found 6626 validated image filenames.\n"
     ]
    },
    {
     "name": "stderr",
     "output_type": "stream",
     "text": [
      "/home/mikylab/.local/lib/python3.8/site-packages/ImageDataAugmentor/image_data_augmentor.py:455: UserWarning: Passing `seed` in `.flow_from_datagrame` has been been removed: pass  `seed` as parameter in `ImageDataAugmentor(..., seed=...)` instead\n",
      "  warnings.warn('Passing `seed` in `.flow_from_datagrame` has been been removed: pass  `seed` '\n"
     ]
    }
   ],
   "source": [
    "Train_Data = train_image_gen.flow_from_dataframe(dataframe = train_gen,\n",
    "                                              x_col = 'image_dir', \n",
    "                                              y_col = 'target', \n",
    "                                              class_mode = 'raw', \n",
    "                                              target_size = (256, 256),\n",
    "                                              color_mode = 'rgb', \n",
    "                                              batch_size = 1, \n",
    "                                              seed = 316, \n",
    "                                              shuffle = True,\n",
    "#                                               subset = 'training'\n",
    "                                    )\n",
    "\n",
    "Val_Data = test_image_gen.flow_from_dataframe(dataframe = val_gen,\n",
    "                                              x_col = 'image_dir', \n",
    "                                              y_col = 'target', \n",
    "                                              class_mode = 'raw',\n",
    "                                              target_size = (256, 256),\n",
    "                                              color_mode = 'rgb', \n",
    "                                              batch_size = 1, \n",
    "                                              seed = 316, \n",
    "                                              shuffle = True,\n",
    "#                                               subset = 'validation'\n",
    "                                    )"
   ]
  },
  {
   "cell_type": "code",
   "execution_count": 34,
   "metadata": {},
   "outputs": [
    {
     "name": "stdout",
     "output_type": "stream",
     "text": [
      "Found 378 validated image filenames.\n"
     ]
    }
   ],
   "source": [
    "Test_Data = test_image_gen.flow_from_dataframe(dataframe = total_test, \n",
    "                                              x_col = 'image_dir', \n",
    "                                              y_col = 'target', \n",
    "                                              class_mode = 'raw',\n",
    "                                              target_size = (256, 256),\n",
    "                                              color_mode = 'rgb', \n",
    "                                              batch_size = 1, \n",
    "                                              seed = 316, \n",
    "                                              shuffle = False,\n",
    "                                              )"
   ]
  },
  {
   "cell_type": "code",
   "execution_count": 35,
   "metadata": {},
   "outputs": [
    {
     "name": "stdout",
     "output_type": "stream",
     "text": [
      "Found 600 validated image filenames.\n"
     ]
    }
   ],
   "source": [
    "Test_Data_17 = test_image_gen.flow_from_dataframe(dataframe = test_2017_frame, \n",
    "                                              x_col = 'image_dir', \n",
    "                                              y_col = 'target', \n",
    "                                              class_mode = 'raw',\n",
    "                                              target_size = (256, 256),\n",
    "                                              color_mode = 'rgb', \n",
    "                                              batch_size = 1, \n",
    "                                              seed = 316, \n",
    "                                              shuffle = False,\n",
    "                                              )"
   ]
  },
  {
   "cell_type": "code",
   "execution_count": 36,
   "metadata": {},
   "outputs": [],
   "source": [
    "# def create_model():  \n",
    "#     enb3 = efn.EfficientNetB3(weights=\"noisy-student\", include_top=False, input_shape=(256, 256, 3), pooling = 'avg')\n",
    "#     x = tf.keras.layers.Flatten()(enb3.output)\n",
    "#     output = tf.keras.layers.Dense(1, activation='sigmoid')(x)\n",
    "#     model = tf.keras.Model(enb3.input, output)\n",
    "#     return model "
   ]
  },
  {
   "cell_type": "code",
   "execution_count": 37,
   "metadata": {},
   "outputs": [],
   "source": [
    "def create_model():  \n",
    "    enb3 = tf.keras.applications.EfficientNetB3(weights=\"imagenet\", include_top=False, input_shape=(256, 256, 3), pooling = 'avg')\n",
    "    x = tf.keras.layers.Flatten()(enb3.output)\n",
    "    output = tf.keras.layers.Dense(1, activation='sigmoid')(x)\n",
    "    model = tf.keras.Model(enb3.input, output)\n",
    "    return model "
   ]
  },
  {
   "cell_type": "code",
   "execution_count": 38,
   "metadata": {},
   "outputs": [],
   "source": [
    "initial_bias = np.log([pos/neg])\n",
    "model = create_model()\n",
    "# model.summary()\n"
   ]
  },
  {
   "cell_type": "code",
   "execution_count": 39,
   "metadata": {},
   "outputs": [],
   "source": [
    "initial_learning_rate = 0.01\n",
    "lr_schedule = tf.keras.optimizers.schedules.ExponentialDecay(\n",
    "    initial_learning_rate, decay_steps=20, decay_rate=0.96, staircase=True\n",
    ")"
   ]
  },
  {
   "cell_type": "code",
   "execution_count": 40,
   "metadata": {},
   "outputs": [],
   "source": [
    "opt = tf.keras.optimizers.Adam(learning_rate = 1e-5 )#1e-5)\n",
    "model.compile(loss='binary_crossentropy', metrics=tf.keras.metrics.AUC(name=\"auc\"),optimizer=opt)\n",
    "\n",
    "early_stopping = tf.keras.callbacks.EarlyStopping(monitor = 'val_loss', mode = 'min', patience = 100, verbose = 1, restore_best_weights = True)\n",
    "cb = early_stopping"
   ]
  },
  {
   "cell_type": "code",
   "execution_count": 41,
   "metadata": {},
   "outputs": [],
   "source": [
    "# results = model.evaluate(Train_Data, batch_size=1, verbose=0, steps = 300)\n",
    "# print(\"Loss: {:0.4f}\".format(results[0]))"
   ]
  },
  {
   "cell_type": "code",
   "execution_count": 42,
   "metadata": {
    "scrolled": true
   },
   "outputs": [
    {
     "name": "stdout",
     "output_type": "stream",
     "text": [
      "WARNING:tensorflow:From /usr/lib/python3/dist-packages/tensorflow/python/ops/array_ops.py:5043: calling gather (from tensorflow.python.ops.array_ops) with validate_indices is deprecated and will be removed in a future version.\n",
      "Instructions for updating:\n",
      "The `validate_indices` argument has no effect. Indices are always validated on CPU and never validated on GPU.\n",
      "Epoch 1/400\n",
      "300/300 [==============================] - 55s 152ms/step - loss: 0.3108 - auc: 0.6104 - val_loss: 0.4131 - val_auc: 0.1515\n",
      "Epoch 2/400\n",
      "300/300 [==============================] - 49s 164ms/step - loss: 1.0240 - auc: 0.6499 - val_loss: 0.4231 - val_auc: 0.0000e+00\n",
      "Epoch 3/400\n",
      "300/300 [==============================] - 45s 149ms/step - loss: 0.4382 - auc: 0.3297 - val_loss: 0.5128 - val_auc: 0.0000e+00\n",
      "Epoch 4/400\n",
      "300/300 [==============================] - 45s 148ms/step - loss: 0.3952 - auc: 0.7013 - val_loss: 0.4380 - val_auc: 0.3535\n",
      "Epoch 5/400\n",
      "300/300 [==============================] - 44s 148ms/step - loss: 0.8906 - auc: 0.3444 - val_loss: 0.5237 - val_auc: 0.6403\n",
      "Epoch 6/400\n",
      "300/300 [==============================] - 46s 154ms/step - loss: 0.7122 - auc: 0.7868 - val_loss: 0.5401 - val_auc: 0.9184\n",
      "Epoch 7/400\n",
      "300/300 [==============================] - 46s 152ms/step - loss: 0.7105 - auc: 0.3569 - val_loss: 0.6102 - val_auc: 0.4141\n",
      "Epoch 8/400\n",
      "300/300 [==============================] - 48s 159ms/step - loss: 0.9214 - auc: 0.3615 - val_loss: 0.6898 - val_auc: 0.7577\n",
      "Epoch 9/400\n",
      "300/300 [==============================] - 44s 147ms/step - loss: 0.7535 - auc: 0.3268 - val_loss: 0.7238 - val_auc: 0.5455\n",
      "Epoch 10/400\n",
      "300/300 [==============================] - 44s 146ms/step - loss: 0.9680 - auc: 0.3169 - val_loss: 0.7777 - val_auc: 0.0000e+00\n",
      "Epoch 11/400\n",
      "300/300 [==============================] - 43s 144ms/step - loss: 0.9639 - auc: 0.3255 - val_loss: 0.7774 - val_auc: 0.6556\n",
      "Epoch 12/400\n",
      "300/300 [==============================] - 44s 146ms/step - loss: 0.8905 - auc: 0.4624 - val_loss: 0.8149 - val_auc: 0.5091\n",
      "Epoch 13/400\n",
      "300/300 [==============================] - 45s 150ms/step - loss: 0.6537 - auc: 0.3763 - val_loss: 0.7982 - val_auc: 0.4362\n",
      "Epoch 14/400\n",
      "300/300 [==============================] - 46s 154ms/step - loss: 0.5573 - auc: 0.5325 - val_loss: 0.7247 - val_auc: 0.3827\n",
      "Epoch 15/400\n",
      "300/300 [==============================] - 48s 159ms/step - loss: 0.5831 - auc: 0.6993 - val_loss: 0.6399 - val_auc: 0.3972\n",
      "Epoch 16/400\n",
      "300/300 [==============================] - 48s 160ms/step - loss: 0.3589 - auc: 0.0602 - val_loss: 0.5919 - val_auc: 0.2551\n",
      "Epoch 17/400\n",
      "300/300 [==============================] - 46s 155ms/step - loss: 0.9299 - auc: 0.5507 - val_loss: 0.6765 - val_auc: 0.6367\n",
      "Epoch 18/400\n",
      "300/300 [==============================] - 46s 153ms/step - loss: 0.6164 - auc: 0.4274 - val_loss: 0.6454 - val_auc: 0.4495\n",
      "Epoch 19/400\n",
      "300/300 [==============================] - 43s 145ms/step - loss: 0.7594 - auc: 0.4294 - val_loss: 0.6929 - val_auc: 0.5663\n",
      "Epoch 20/400\n",
      "300/300 [==============================] - 47s 157ms/step - loss: 0.3434 - auc: 0.9916 - val_loss: 0.5552 - val_auc: 0.1913\n",
      "Epoch 21/400\n",
      "300/300 [==============================] - 49s 162ms/step - loss: 0.6338 - auc: 0.4062 - val_loss: 0.5561 - val_auc: 0.6151\n",
      "Epoch 22/400\n",
      "300/300 [==============================] - 42s 139ms/step - loss: 0.7003 - auc: 0.4264 - val_loss: 0.6335 - val_auc: 0.4519\n",
      "Epoch 23/400\n",
      "300/300 [==============================] - 45s 151ms/step - loss: 0.6200 - auc: 0.3877 - val_loss: 0.6366 - val_auc: 0.2778\n",
      "Epoch 24/400\n",
      "300/300 [==============================] - 49s 162ms/step - loss: 0.6381 - auc: 0.2728 - val_loss: 0.6160 - val_auc: 0.3687\n",
      "Epoch 25/400\n",
      "300/300 [==============================] - 45s 149ms/step - loss: 0.8568 - auc: 0.6372 - val_loss: 0.6753 - val_auc: 0.2595\n",
      "Epoch 26/400\n",
      "300/300 [==============================] - 45s 151ms/step - loss: 0.8987 - auc: 0.5766 - val_loss: 0.7286 - val_auc: 0.0000e+00\n",
      "Epoch 27/400\n",
      "300/300 [==============================] - 45s 150ms/step - loss: 0.9141 - auc: 0.6055 - val_loss: 0.7818 - val_auc: 0.4777\n",
      "Epoch 28/400\n",
      "300/300 [==============================] - 45s 148ms/step - loss: 0.7373 - auc: 0.5658 - val_loss: 0.7353 - val_auc: 0.2045\n",
      "Epoch 29/400\n",
      "300/300 [==============================] - 46s 154ms/step - loss: 0.7428 - auc: 0.4745 - val_loss: 0.6931 - val_auc: 0.3471\n",
      "Epoch 30/400\n",
      "300/300 [==============================] - 45s 149ms/step - loss: 0.6192 - auc: 0.4231 - val_loss: 0.6382 - val_auc: 0.5051\n",
      "Epoch 31/400\n",
      "300/300 [==============================] - 45s 151ms/step - loss: 0.7932 - auc: 0.5429 - val_loss: 0.7342 - val_auc: 0.5740\n",
      "Epoch 32/400\n",
      "300/300 [==============================] - 46s 153ms/step - loss: 1.0077 - auc: 0.6231 - val_loss: 0.7870 - val_auc: 0.6443\n",
      "Epoch 33/400\n",
      "300/300 [==============================] - 49s 162ms/step - loss: 0.6260 - auc: 0.5815 - val_loss: 0.7601 - val_auc: 0.5026\n",
      "Epoch 34/400\n",
      "300/300 [==============================] - 43s 143ms/step - loss: 0.5342 - auc: 0.5460 - val_loss: 0.7229 - val_auc: 0.4727\n",
      "Epoch 35/400\n",
      "300/300 [==============================] - 45s 151ms/step - loss: 0.6949 - auc: 0.4841 - val_loss: 0.6150 - val_auc: 0.2883\n",
      "Epoch 36/400\n",
      "300/300 [==============================] - 47s 155ms/step - loss: 0.5173 - auc: 0.5948 - val_loss: 0.5750 - val_auc: 0.7828\n",
      "Epoch 37/400\n",
      "300/300 [==============================] - 48s 160ms/step - loss: 0.8773 - auc: 0.5546 - val_loss: 0.6646 - val_auc: 0.9005\n",
      "Epoch 38/400\n",
      "300/300 [==============================] - 45s 149ms/step - loss: 0.6206 - auc: 0.8119 - val_loss: 0.6417 - val_auc: 0.5997\n",
      "Epoch 39/400\n",
      "300/300 [==============================] - 44s 146ms/step - loss: 0.6741 - auc: 0.5753 - val_loss: 0.5877 - val_auc: 0.8986\n",
      "Epoch 40/400\n",
      "300/300 [==============================] - 49s 163ms/step - loss: 0.3636 - auc: 0.4866 - val_loss: 0.6708 - val_auc: 0.3434\n",
      "Epoch 41/400\n",
      "300/300 [==============================] - 44s 148ms/step - loss: 0.7554 - auc: 0.6139 - val_loss: 0.6832 - val_auc: 0.3673\n",
      "Epoch 42/400\n",
      "300/300 [==============================] - 46s 153ms/step - loss: 0.7085 - auc: 0.6718 - val_loss: 0.6805 - val_auc: 0.7980\n",
      "Epoch 43/400\n",
      "300/300 [==============================] - 45s 148ms/step - loss: 0.7599 - auc: 0.7031 - val_loss: 0.6447 - val_auc: 0.8648\n",
      "Epoch 44/400\n",
      "300/300 [==============================] - 45s 151ms/step - loss: 1.1264 - auc: 0.5249 - val_loss: 0.7048 - val_auc: 0.2857\n",
      "Epoch 45/400\n",
      "300/300 [==============================] - 44s 148ms/step - loss: 0.5038 - auc: 0.4214 - val_loss: 0.7179 - val_auc: 0.7727\n",
      "Epoch 46/400\n",
      "300/300 [==============================] - 44s 147ms/step - loss: 0.8730 - auc: 0.6754 - val_loss: 0.6334 - val_auc: 0.7296\n",
      "Epoch 47/400\n",
      "300/300 [==============================] - 46s 153ms/step - loss: 0.4690 - auc: 0.5772 - val_loss: 0.6851 - val_auc: 0.0960\n",
      "Epoch 48/400\n",
      "300/300 [==============================] - 46s 153ms/step - loss: 0.7700 - auc: 0.6999 - val_loss: 0.6550 - val_auc: 0.8402\n",
      "Epoch 49/400\n",
      "300/300 [==============================] - 44s 148ms/step - loss: 0.7018 - auc: 0.6670 - val_loss: 0.6823 - val_auc: 0.0000e+00\n",
      "Epoch 50/400\n",
      "300/300 [==============================] - 47s 156ms/step - loss: 0.4445 - auc: 0.7131 - val_loss: 0.6644 - val_auc: 0.7122\n",
      "Epoch 51/400\n",
      "300/300 [==============================] - 45s 150ms/step - loss: 0.6134 - auc: 0.7359 - val_loss: 0.6047 - val_auc: 0.5275\n",
      "Epoch 52/400\n",
      "300/300 [==============================] - 48s 159ms/step - loss: 0.6169 - auc: 0.5401 - val_loss: 0.6644 - val_auc: 0.0000e+00\n",
      "Epoch 53/400\n",
      "300/300 [==============================] - 47s 155ms/step - loss: 0.6051 - auc: 0.1526 - val_loss: 0.5829 - val_auc: 0.9286\n",
      "Epoch 54/400\n",
      "300/300 [==============================] - 47s 155ms/step - loss: 0.5626 - auc: 0.7040 - val_loss: 0.6600 - val_auc: 0.9313\n",
      "Epoch 55/400\n",
      "300/300 [==============================] - 46s 152ms/step - loss: 0.7037 - auc: 0.6973 - val_loss: 0.6146 - val_auc: 0.8131\n",
      "Epoch 56/400\n",
      "300/300 [==============================] - 45s 150ms/step - loss: 0.6685 - auc: 0.5773 - val_loss: 0.6225 - val_auc: 0.0000e+00\n",
      "Epoch 57/400\n",
      "300/300 [==============================] - 46s 155ms/step - loss: 0.6113 - auc: 0.8119 - val_loss: 0.6491 - val_auc: 0.0000e+00\n"
     ]
    },
    {
     "name": "stdout",
     "output_type": "stream",
     "text": [
      "Epoch 58/400\n",
      "300/300 [==============================] - 46s 153ms/step - loss: 0.8949 - auc: 0.5760 - val_loss: 0.6725 - val_auc: 0.1173\n",
      "Epoch 59/400\n",
      "300/300 [==============================] - 44s 147ms/step - loss: 0.8663 - auc: 0.5955 - val_loss: 0.6627 - val_auc: 0.9141\n",
      "Epoch 60/400\n",
      "300/300 [==============================] - 42s 139ms/step - loss: 0.7198 - auc: 0.6463 - val_loss: 0.6406 - val_auc: 0.6120\n",
      "Epoch 61/400\n",
      "300/300 [==============================] - 46s 154ms/step - loss: 0.6601 - auc: 0.3007 - val_loss: 0.5929 - val_auc: 0.7883\n",
      "Epoch 62/400\n",
      "300/300 [==============================] - 42s 140ms/step - loss: 0.9789 - auc: 0.6927 - val_loss: 0.6823 - val_auc: 0.7474\n",
      "Epoch 63/400\n",
      "300/300 [==============================] - 43s 145ms/step - loss: 0.6428 - auc: 0.7678 - val_loss: 0.6078 - val_auc: 0.9260\n",
      "Epoch 64/400\n",
      "300/300 [==============================] - 47s 155ms/step - loss: 0.5915 - auc: 0.8417 - val_loss: 0.6521 - val_auc: 0.7988\n",
      "Epoch 65/400\n",
      "300/300 [==============================] - 49s 163ms/step - loss: 0.6367 - auc: 0.6763 - val_loss: 0.5953 - val_auc: 0.8677\n",
      "Epoch 66/400\n",
      "300/300 [==============================] - 45s 152ms/step - loss: 0.5775 - auc: 0.8339 - val_loss: 0.5541 - val_auc: 0.9394\n",
      "Epoch 67/400\n",
      "300/300 [==============================] - 46s 153ms/step - loss: 0.6832 - auc: 0.3438 - val_loss: 0.5294 - val_auc: 0.8105\n",
      "Epoch 68/400\n",
      "300/300 [==============================] - 46s 153ms/step - loss: 0.5402 - auc: 0.7496 - val_loss: 0.6599 - val_auc: 0.5455\n",
      "Epoch 69/400\n",
      "300/300 [==============================] - 45s 149ms/step - loss: 0.8508 - auc: 0.6265 - val_loss: 0.7110 - val_auc: 0.7560\n",
      "Epoch 70/400\n",
      "300/300 [==============================] - 45s 149ms/step - loss: 0.8360 - auc: 0.4895 - val_loss: 0.7034 - val_auc: 0.3127\n",
      "Epoch 71/400\n",
      "300/300 [==============================] - 44s 147ms/step - loss: 0.6206 - auc: 0.7258 - val_loss: 0.6376 - val_auc: 0.5791\n",
      "Epoch 72/400\n",
      "300/300 [==============================] - 43s 142ms/step - loss: 0.6971 - auc: 0.6516 - val_loss: 0.6603 - val_auc: 0.9596\n",
      "Epoch 73/400\n",
      "300/300 [==============================] - 46s 153ms/step - loss: 0.3075 - auc: 1.0000 - val_loss: 0.5836 - val_auc: 0.9040\n",
      "Epoch 74/400\n",
      "300/300 [==============================] - 47s 156ms/step - loss: 0.7381 - auc: 0.6482 - val_loss: 0.5710 - val_auc: 0.7371\n",
      "Epoch 75/400\n",
      "300/300 [==============================] - 45s 151ms/step - loss: 0.8143 - auc: 0.5166 - val_loss: 0.6910 - val_auc: 0.8673\n",
      "Epoch 76/400\n",
      "300/300 [==============================] - 47s 155ms/step - loss: 0.5130 - auc: 0.7351 - val_loss: 0.5680 - val_auc: 0.0000e+00\n",
      "Epoch 77/400\n",
      "300/300 [==============================] - 46s 152ms/step - loss: 0.5557 - auc: 0.7242 - val_loss: 0.6028 - val_auc: 0.0000e+00\n",
      "Epoch 78/400\n",
      "300/300 [==============================] - 45s 149ms/step - loss: 0.7132 - auc: 0.6755 - val_loss: 0.6065 - val_auc: 0.0000e+00\n",
      "Epoch 79/400\n",
      "300/300 [==============================] - 44s 146ms/step - loss: 0.3063 - auc: 0.9849 - val_loss: 0.5536 - val_auc: 0.0000e+00\n",
      "Epoch 80/400\n",
      "300/300 [==============================] - 47s 156ms/step - loss: 0.7274 - auc: 0.3315 - val_loss: 0.5674 - val_auc: 0.8625\n",
      "Epoch 81/400\n",
      "300/300 [==============================] - 45s 148ms/step - loss: 0.7063 - auc: 0.6981 - val_loss: 0.7080 - val_auc: 0.9293\n",
      "Epoch 82/400\n",
      "300/300 [==============================] - 43s 144ms/step - loss: 0.9474 - auc: 0.6367 - val_loss: 0.6777 - val_auc: 0.0000e+00\n",
      "Epoch 83/400\n",
      "300/300 [==============================] - 45s 148ms/step - loss: 0.5454 - auc: 0.5836 - val_loss: 0.7577 - val_auc: 0.6313\n",
      "Epoch 84/400\n",
      "300/300 [==============================] - 44s 145ms/step - loss: 0.8897 - auc: 0.5872 - val_loss: 0.7968 - val_auc: 0.0000e+00\n",
      "Epoch 85/400\n",
      "300/300 [==============================] - 43s 143ms/step - loss: 0.6797 - auc: 0.5407 - val_loss: 0.6446 - val_auc: 0.4747\n",
      "Epoch 86/400\n",
      "300/300 [==============================] - 47s 155ms/step - loss: 0.4950 - auc: 0.7419 - val_loss: 0.5975 - val_auc: 0.0000e+00\n",
      "Epoch 87/400\n",
      "300/300 [==============================] - 49s 162ms/step - loss: 0.6273 - auc: 0.4683 - val_loss: 0.5442 - val_auc: 0.1919\n",
      "Epoch 88/400\n",
      "300/300 [==============================] - 45s 151ms/step - loss: 0.5810 - auc: 0.8214 - val_loss: 0.6143 - val_auc: 0.4242\n",
      "Epoch 89/400\n",
      "300/300 [==============================] - 48s 160ms/step - loss: 0.5855 - auc: 0.8880 - val_loss: 0.8491 - val_auc: 0.5255\n",
      "Epoch 90/400\n",
      "300/300 [==============================] - 44s 148ms/step - loss: 0.7551 - auc: 0.7369 - val_loss: 0.5615 - val_auc: 0.9102\n",
      "Epoch 91/400\n",
      "300/300 [==============================] - 49s 164ms/step - loss: 0.5707 - auc: 0.7908 - val_loss: 0.5703 - val_auc: 0.9115\n",
      "Epoch 92/400\n",
      "300/300 [==============================] - 48s 160ms/step - loss: 0.8442 - auc: 0.7534 - val_loss: 0.8268 - val_auc: 0.3081\n",
      "Epoch 93/400\n",
      "300/300 [==============================] - 47s 154ms/step - loss: 0.3003 - auc: 0.0000e+00 - val_loss: 0.5864 - val_auc: 0.0000e+00\n",
      "Epoch 94/400\n",
      "300/300 [==============================] - 47s 155ms/step - loss: 0.5302 - auc: 0.5527 - val_loss: 0.4934 - val_auc: 0.7092\n",
      "Epoch 95/400\n",
      "300/300 [==============================] - 52s 174ms/step - loss: 0.3134 - auc: 0.3829 - val_loss: 0.4027 - val_auc: 0.8137\n",
      "Epoch 96/400\n",
      "300/300 [==============================] - 50s 165ms/step - loss: 0.2823 - auc: 0.5635 - val_loss: 0.3520 - val_auc: 0.8597\n",
      "Epoch 97/400\n",
      "300/300 [==============================] - 46s 152ms/step - loss: 0.7761 - auc: 0.5658 - val_loss: 0.4978 - val_auc: 0.7321\n",
      "Epoch 98/400\n",
      "300/300 [==============================] - 48s 160ms/step - loss: 0.3995 - auc: 0.6040 - val_loss: 0.4711 - val_auc: 0.9747\n",
      "Epoch 99/400\n",
      "300/300 [==============================] - 47s 156ms/step - loss: 0.3073 - auc: 0.9488 - val_loss: 0.4660 - val_auc: 0.6515\n",
      "Epoch 100/400\n",
      "300/300 [==============================] - 51s 169ms/step - loss: 0.8015 - auc: 0.4898 - val_loss: 0.5576 - val_auc: 0.0000e+00\n",
      "Epoch 101/400\n",
      "300/300 [==============================] - 52s 174ms/step - loss: 0.6364 - auc: 0.6814 - val_loss: 0.7153 - val_auc: 0.0000e+00\n",
      "Epoch 102/400\n",
      "300/300 [==============================] - 51s 171ms/step - loss: 0.6291 - auc: 0.7820 - val_loss: 0.7118 - val_auc: 0.0000e+00\n",
      "Epoch 103/400\n",
      "300/300 [==============================] - 50s 167ms/step - loss: 0.7082 - auc: 0.8012 - val_loss: 0.6848 - val_auc: 0.8110\n",
      "Epoch 104/400\n",
      "300/300 [==============================] - 45s 149ms/step - loss: 0.5666 - auc: 0.4697 - val_loss: 0.5679 - val_auc: 0.6562\n",
      "Epoch 105/400\n",
      "300/300 [==============================] - 49s 163ms/step - loss: 0.4578 - auc: 0.8796 - val_loss: 0.4917 - val_auc: 0.9192\n",
      "Epoch 106/400\n",
      "300/300 [==============================] - 46s 154ms/step - loss: 0.4743 - auc: 0.8581 - val_loss: 0.5064 - val_auc: 0.6250\n",
      "Epoch 107/400\n",
      "300/300 [==============================] - 45s 151ms/step - loss: 0.2081 - auc: 0.9983 - val_loss: 0.4473 - val_auc: 0.7959\n",
      "Epoch 108/400\n",
      "300/300 [==============================] - 45s 151ms/step - loss: 0.7053 - auc: 0.6346 - val_loss: 0.5447 - val_auc: 0.7959\n",
      "Epoch 109/400\n",
      "300/300 [==============================] - 48s 160ms/step - loss: 0.4897 - auc: 0.6229 - val_loss: 0.6921 - val_auc: 0.6340\n",
      "Epoch 110/400\n",
      "300/300 [==============================] - 46s 153ms/step - loss: 0.4179 - auc: 0.8401 - val_loss: 0.4341 - val_auc: 0.5740\n",
      "Epoch 111/400\n",
      "300/300 [==============================] - 47s 156ms/step - loss: 0.8274 - auc: 0.6543 - val_loss: 0.5693 - val_auc: 0.7539\n",
      "Epoch 112/400\n",
      "300/300 [==============================] - 51s 169ms/step - loss: 0.4986 - auc: 0.6998 - val_loss: 0.4676 - val_auc: 0.6162\n",
      "Epoch 113/400\n",
      "300/300 [==============================] - 51s 170ms/step - loss: 0.7011 - auc: 0.4079 - val_loss: 0.5363 - val_auc: 0.8469\n",
      "Epoch 114/400\n",
      "300/300 [==============================] - 49s 161ms/step - loss: 0.5410 - auc: 0.7133 - val_loss: 0.6004 - val_auc: 0.9847\n",
      "Epoch 115/400\n",
      "300/300 [==============================] - 51s 168ms/step - loss: 0.7369 - auc: 0.6848 - val_loss: 0.4550 - val_auc: 0.9592\n",
      "Epoch 116/400\n",
      "300/300 [==============================] - 53s 176ms/step - loss: 0.6414 - auc: 0.6373 - val_loss: 0.4897 - val_auc: 0.9897\n",
      "Epoch 117/400\n",
      "300/300 [==============================] - 52s 174ms/step - loss: 0.7285 - auc: 0.6797 - val_loss: 0.5536 - val_auc: 0.8291\n",
      "Epoch 118/400\n",
      "300/300 [==============================] - 54s 180ms/step - loss: 0.5896 - auc: 0.6030 - val_loss: 0.5814 - val_auc: 0.8677\n",
      "Epoch 119/400\n",
      "300/300 [==============================] - 56s 185ms/step - loss: 0.6579 - auc: 0.8375 - val_loss: 0.6559 - val_auc: 0.8232\n",
      "Epoch 120/400\n",
      "300/300 [==============================] - 55s 184ms/step - loss: 0.5441 - auc: 0.8156 - val_loss: 0.6159 - val_auc: 0.9091\n",
      "Epoch 121/400\n",
      "300/300 [==============================] - 53s 175ms/step - loss: 0.6066 - auc: 0.7075 - val_loss: 0.5499 - val_auc: 0.8047\n",
      "Epoch 122/400\n",
      "300/300 [==============================] - 56s 186ms/step - loss: 0.8004 - auc: 0.6463 - val_loss: 0.9197 - val_auc: 0.4192\n",
      "Epoch 123/400\n",
      "300/300 [==============================] - 53s 178ms/step - loss: 0.6927 - auc: 0.6284 - val_loss: 0.5338 - val_auc: 0.7245\n",
      "Epoch 124/400\n",
      "300/300 [==============================] - 53s 178ms/step - loss: 0.7317 - auc: 0.7333 - val_loss: 0.6508 - val_auc: 0.9184\n",
      "Epoch 125/400\n",
      "300/300 [==============================] - 54s 181ms/step - loss: 0.7843 - auc: 0.5817 - val_loss: 0.6461 - val_auc: 0.6484\n",
      "Epoch 126/400\n",
      "300/300 [==============================] - 57s 188ms/step - loss: 0.4770 - auc: 0.5470 - val_loss: 0.6395 - val_auc: 0.0000e+00\n",
      "Epoch 127/400\n",
      "300/300 [==============================] - 57s 189ms/step - loss: 0.9262 - auc: 0.6834 - val_loss: 0.5875 - val_auc: 0.9056\n",
      "Epoch 128/400\n",
      "300/300 [==============================] - 55s 182ms/step - loss: 0.5479 - auc: 0.8965 - val_loss: 0.6825 - val_auc: 0.6990\n",
      "Epoch 129/400\n",
      "300/300 [==============================] - 56s 188ms/step - loss: 0.5092 - auc: 0.7606 - val_loss: 0.5301 - val_auc: 0.7010\n",
      "Epoch 130/400\n",
      "300/300 [==============================] - 53s 176ms/step - loss: 0.9075 - auc: 0.5905 - val_loss: 0.8817 - val_auc: 0.0000e+00\n",
      "Epoch 131/400\n",
      "300/300 [==============================] - 54s 182ms/step - loss: 0.4202 - auc: 0.7273 - val_loss: 0.5446 - val_auc: 0.8636\n",
      "Epoch 132/400\n",
      "300/300 [==============================] - 56s 187ms/step - loss: 0.6550 - auc: 0.7333 - val_loss: 0.9187 - val_auc: 0.9192\n",
      "Epoch 133/400\n",
      "300/300 [==============================] - 54s 180ms/step - loss: 0.4855 - auc: 0.6987 - val_loss: 0.6479 - val_auc: 0.0000e+00\n",
      "Epoch 134/400\n",
      "300/300 [==============================] - 54s 180ms/step - loss: 0.7199 - auc: 0.7174 - val_loss: 0.5139 - val_auc: 0.0000e+00\n",
      "Epoch 135/400\n",
      "300/300 [==============================] - 52s 175ms/step - loss: 0.4218 - auc: 0.5990 - val_loss: 0.5744 - val_auc: 0.8724\n",
      "Epoch 136/400\n",
      "300/300 [==============================] - 52s 173ms/step - loss: 0.9058 - auc: 0.5850 - val_loss: 0.6370 - val_auc: 0.8179\n",
      "Epoch 137/400\n",
      "300/300 [==============================] - 53s 177ms/step - loss: 0.4149 - auc: 0.6762 - val_loss: 0.5284 - val_auc: 0.9260\n",
      "Epoch 138/400\n",
      "300/300 [==============================] - 53s 175ms/step - loss: 0.6866 - auc: 0.5925 - val_loss: 0.7069 - val_auc: 0.8608\n",
      "Epoch 139/400\n",
      "300/300 [==============================] - 53s 177ms/step - loss: 0.7382 - auc: 0.7457 - val_loss: 0.5623 - val_auc: 0.7273\n",
      "Epoch 140/400\n",
      "300/300 [==============================] - 59s 196ms/step - loss: 0.4105 - auc: 0.8513 - val_loss: 0.5333 - val_auc: 0.9235\n",
      "Epoch 141/400\n",
      "300/300 [==============================] - 58s 191ms/step - loss: 0.6809 - auc: 0.7660 - val_loss: 0.4043 - val_auc: 0.9209\n",
      "Epoch 142/400\n",
      "300/300 [==============================] - 58s 193ms/step - loss: 0.6039 - auc: 0.7877 - val_loss: 0.4994 - val_auc: 0.0000e+00\n",
      "Epoch 143/400\n",
      "300/300 [==============================] - 56s 186ms/step - loss: 0.5935 - auc: 0.8196 - val_loss: 0.4444 - val_auc: 0.9545\n",
      "Epoch 144/400\n",
      "300/300 [==============================] - 58s 191ms/step - loss: 0.7597 - auc: 0.5692 - val_loss: 0.5504 - val_auc: 0.7474\n",
      "Epoch 145/400\n",
      "300/300 [==============================] - 53s 176ms/step - loss: 0.5967 - auc: 0.5840 - val_loss: 0.4768 - val_auc: 0.9232\n",
      "Epoch 146/400\n",
      "300/300 [==============================] - 56s 186ms/step - loss: 0.5179 - auc: 0.7614 - val_loss: 0.4913 - val_auc: 0.7576\n",
      "Epoch 147/400\n",
      "300/300 [==============================] - 55s 185ms/step - loss: 0.5111 - auc: 0.4119 - val_loss: 0.4038 - val_auc: 0.8398\n",
      "Epoch 148/400\n",
      "300/300 [==============================] - 56s 187ms/step - loss: 0.3619 - auc: 0.8911 - val_loss: 0.5218 - val_auc: 0.2778\n",
      "Epoch 149/400\n",
      "300/300 [==============================] - 53s 177ms/step - loss: 0.7137 - auc: 0.6630 - val_loss: 0.4816 - val_auc: 0.4293\n",
      "Epoch 150/400\n",
      "300/300 [==============================] - 55s 183ms/step - loss: 0.3033 - auc: 0.6906 - val_loss: 0.4553 - val_auc: 0.8586\n",
      "Epoch 151/400\n",
      "300/300 [==============================] - 55s 184ms/step - loss: 0.5054 - auc: 0.7720 - val_loss: 0.5210 - val_auc: 0.9343\n",
      "Epoch 152/400\n",
      "300/300 [==============================] - 52s 172ms/step - loss: 0.4172 - auc: 0.5713 - val_loss: 0.5283 - val_auc: 0.0000e+00\n",
      "Epoch 153/400\n",
      "300/300 [==============================] - 53s 176ms/step - loss: 0.5486 - auc: 0.6930 - val_loss: 0.5492 - val_auc: 0.7930\n",
      "Epoch 154/400\n",
      "300/300 [==============================] - 53s 176ms/step - loss: 0.6426 - auc: 0.5942 - val_loss: 0.4137 - val_auc: 0.9541\n",
      "Epoch 155/400\n",
      "300/300 [==============================] - 56s 186ms/step - loss: 0.4713 - auc: 0.8366 - val_loss: 0.4932 - val_auc: 0.8485\n",
      "Epoch 156/400\n",
      "300/300 [==============================] - 53s 176ms/step - loss: 0.3646 - auc: 0.9001 - val_loss: 0.5259 - val_auc: 0.6888\n",
      "Epoch 157/400\n",
      "300/300 [==============================] - 52s 175ms/step - loss: 0.6773 - auc: 0.6794 - val_loss: 0.4213 - val_auc: 0.7781\n",
      "Epoch 158/400\n",
      "300/300 [==============================] - 56s 186ms/step - loss: 0.7103 - auc: 0.5231 - val_loss: 0.5545 - val_auc: 0.9055\n",
      "Epoch 159/400\n",
      "300/300 [==============================] - 53s 176ms/step - loss: 0.4713 - auc: 0.9380 - val_loss: 0.5242 - val_auc: 0.6890\n",
      "Epoch 160/400\n",
      "300/300 [==============================] - 53s 177ms/step - loss: 1.0270 - auc: 0.6112 - val_loss: 0.6264 - val_auc: 0.7457\n",
      "Epoch 161/400\n",
      "300/300 [==============================] - 54s 180ms/step - loss: 0.5476 - auc: 0.9020 - val_loss: 0.5869 - val_auc: 0.0000e+00\n",
      "Epoch 162/400\n",
      "300/300 [==============================] - 52s 173ms/step - loss: 0.7924 - auc: 0.5795 - val_loss: 0.5123 - val_auc: 0.8283\n",
      "Epoch 163/400\n",
      "300/300 [==============================] - 56s 186ms/step - loss: 0.7265 - auc: 0.6438 - val_loss: 0.5024 - val_auc: 0.8971\n",
      "Epoch 164/400\n",
      "300/300 [==============================] - 53s 175ms/step - loss: 0.5647 - auc: 0.7749 - val_loss: 0.4852 - val_auc: 0.6862\n",
      "Epoch 165/400\n",
      "300/300 [==============================] - 57s 189ms/step - loss: 0.5560 - auc: 0.6257 - val_loss: 0.6403 - val_auc: 0.6695\n",
      "Epoch 166/400\n",
      "300/300 [==============================] - 53s 177ms/step - loss: 0.5054 - auc: 0.8593 - val_loss: 0.4584 - val_auc: 0.0000e+00\n",
      "Epoch 167/400\n",
      "300/300 [==============================] - 55s 183ms/step - loss: 0.5834 - auc: 0.6157 - val_loss: 0.6164 - val_auc: 0.0000e+00\n",
      "Epoch 168/400\n",
      "300/300 [==============================] - 54s 182ms/step - loss: 0.6106 - auc: 0.8701 - val_loss: 0.5175 - val_auc: 0.8138\n",
      "Epoch 169/400\n",
      "300/300 [==============================] - 57s 191ms/step - loss: 0.2539 - auc: 0.9498 - val_loss: 0.4338 - val_auc: 0.0000e+00\n",
      "Epoch 170/400\n",
      "300/300 [==============================] - 53s 176ms/step - loss: 0.7321 - auc: 0.7285 - val_loss: 0.5391 - val_auc: 0.0000e+00\n",
      "Epoch 171/400\n",
      "300/300 [==============================] - 56s 187ms/step - loss: 0.5900 - auc: 0.6018 - val_loss: 0.4307 - val_auc: 0.8505\n",
      "Epoch 172/400\n",
      "300/300 [==============================] - 55s 183ms/step - loss: 0.6640 - auc: 0.6721 - val_loss: 0.3647 - val_auc: 0.9072\n",
      "Epoch 173/400\n",
      "300/300 [==============================] - 52s 174ms/step - loss: 0.7274 - auc: 0.6080 - val_loss: 0.5011 - val_auc: 0.6465\n",
      "Epoch 174/400\n",
      "300/300 [==============================] - 54s 179ms/step - loss: 0.5142 - auc: 0.6330 - val_loss: 0.4937 - val_auc: 1.0000\n",
      "Epoch 175/400\n",
      "300/300 [==============================] - 58s 192ms/step - loss: 0.5600 - auc: 0.7725 - val_loss: 0.4488 - val_auc: 0.5505\n",
      "Epoch 176/400\n"
     ]
    },
    {
     "name": "stdout",
     "output_type": "stream",
     "text": [
      "300/300 [==============================] - 54s 181ms/step - loss: 0.5947 - auc: 0.8242 - val_loss: 0.4038 - val_auc: 0.0000e+00\n",
      "Epoch 177/400\n",
      "300/300 [==============================] - 55s 182ms/step - loss: 0.6920 - auc: 0.6783 - val_loss: 0.5003 - val_auc: 0.6607\n",
      "Epoch 178/400\n",
      "300/300 [==============================] - 54s 181ms/step - loss: 0.4664 - auc: 0.8763 - val_loss: 0.5330 - val_auc: 0.6313\n",
      "Epoch 179/400\n",
      "300/300 [==============================] - 51s 168ms/step - loss: 0.2574 - auc: 0.9816 - val_loss: 0.3613 - val_auc: 0.0000e+00\n",
      "Epoch 180/400\n",
      "300/300 [==============================] - 54s 180ms/step - loss: 0.6604 - auc: 0.6817 - val_loss: 0.4516 - val_auc: 0.7526\n",
      "Epoch 181/400\n",
      "300/300 [==============================] - 55s 183ms/step - loss: 0.2305 - auc: 0.8963 - val_loss: 0.3471 - val_auc: 0.5051\n",
      "Epoch 182/400\n",
      "300/300 [==============================] - 51s 170ms/step - loss: 0.6221 - auc: 0.6702 - val_loss: 0.4328 - val_auc: 0.6276\n",
      "Epoch 183/400\n",
      "300/300 [==============================] - 51s 170ms/step - loss: 0.6119 - auc: 0.7156 - val_loss: 0.4322 - val_auc: 0.9697\n",
      "Epoch 184/400\n",
      "300/300 [==============================] - 55s 182ms/step - loss: 0.6533 - auc: 0.7721 - val_loss: 0.4362 - val_auc: 0.9394\n",
      "Epoch 185/400\n",
      "300/300 [==============================] - 53s 178ms/step - loss: 0.5120 - auc: 0.7432 - val_loss: 0.3561 - val_auc: 0.6821\n",
      "Epoch 186/400\n",
      "300/300 [==============================] - 56s 186ms/step - loss: 0.3944 - auc: 0.8328 - val_loss: 0.3893 - val_auc: 0.8699\n",
      "Epoch 187/400\n",
      "300/300 [==============================] - 54s 181ms/step - loss: 0.8298 - auc: 0.5556 - val_loss: 0.3943 - val_auc: 0.9219\n",
      "Epoch 188/400\n",
      "300/300 [==============================] - 55s 182ms/step - loss: 0.7594 - auc: 0.7952 - val_loss: 0.4768 - val_auc: 0.7079\n",
      "Epoch 189/400\n",
      "300/300 [==============================] - 52s 172ms/step - loss: 0.6911 - auc: 0.7761 - val_loss: 0.6083 - val_auc: 0.0000e+00\n",
      "Epoch 190/400\n",
      "300/300 [==============================] - 59s 195ms/step - loss: 0.3248 - auc: 0.0000e+00 - val_loss: 0.4177 - val_auc: 0.0000e+00\n",
      "Epoch 191/400\n",
      "300/300 [==============================] - 55s 184ms/step - loss: 0.3991 - auc: 0.2157 - val_loss: 0.3831 - val_auc: 0.8333\n",
      "Epoch 192/400\n",
      "300/300 [==============================] - 55s 181ms/step - loss: 0.4542 - auc: 0.8383 - val_loss: 0.4273 - val_auc: 0.3687\n",
      "Epoch 193/400\n",
      "300/300 [==============================] - 55s 183ms/step - loss: 0.8769 - auc: 0.6383 - val_loss: 0.5314 - val_auc: 0.6616\n",
      "Epoch 194/400\n",
      "300/300 [==============================] - 55s 184ms/step - loss: 1.0124 - auc: 0.5469 - val_loss: 0.3327 - val_auc: 0.9899\n",
      "Epoch 195/400\n",
      "300/300 [==============================] - 53s 176ms/step - loss: 0.4357 - auc: 0.9675 - val_loss: 0.3293 - val_auc: 0.0000e+00\n",
      "Epoch 196/400\n",
      "300/300 [==============================] - 56s 187ms/step - loss: 0.6013 - auc: 0.7905 - val_loss: 0.3221 - val_auc: 0.8929\n",
      "Epoch 197/400\n",
      "300/300 [==============================] - 56s 187ms/step - loss: 0.7281 - auc: 0.5627 - val_loss: 0.3776 - val_auc: 0.7679\n",
      "Epoch 198/400\n",
      "300/300 [==============================] - 57s 192ms/step - loss: 0.8259 - auc: 0.7337 - val_loss: 0.4325 - val_auc: 0.8464\n",
      "Epoch 199/400\n",
      "300/300 [==============================] - 52s 173ms/step - loss: 0.6492 - auc: 0.7455 - val_loss: 0.3482 - val_auc: 0.7518\n",
      "Epoch 200/400\n",
      "300/300 [==============================] - 55s 182ms/step - loss: 0.8019 - auc: 0.3990 - val_loss: 0.3988 - val_auc: 0.9141\n",
      "Epoch 201/400\n",
      "300/300 [==============================] - 55s 182ms/step - loss: 0.6386 - auc: 0.7591 - val_loss: 0.4276 - val_auc: 0.9394\n",
      "Epoch 202/400\n",
      "300/300 [==============================] - 53s 178ms/step - loss: 0.6121 - auc: 0.6786 - val_loss: 0.3536 - val_auc: 0.7424\n",
      "Epoch 203/400\n",
      "300/300 [==============================] - 53s 175ms/step - loss: 0.7245 - auc: 0.6709 - val_loss: 0.3843 - val_auc: 0.6564\n",
      "Epoch 204/400\n",
      "300/300 [==============================] - 52s 175ms/step - loss: 0.7651 - auc: 0.5437 - val_loss: 0.3626 - val_auc: 0.0000e+00\n",
      "Epoch 205/400\n",
      "300/300 [==============================] - 56s 188ms/step - loss: 0.6072 - auc: 0.8415 - val_loss: 0.4049 - val_auc: 0.8214\n",
      "Epoch 206/400\n",
      "300/300 [==============================] - 54s 179ms/step - loss: 0.4915 - auc: 0.9340 - val_loss: 0.3832 - val_auc: 0.0000e+00\n",
      "Epoch 207/400\n",
      "300/300 [==============================] - 51s 171ms/step - loss: 0.9085 - auc: 0.6903 - val_loss: 0.6598 - val_auc: 0.6327\n",
      "Epoch 208/400\n",
      "300/300 [==============================] - 52s 173ms/step - loss: 0.6065 - auc: 0.6254 - val_loss: 0.8018 - val_auc: 0.8182\n",
      "Epoch 209/400\n",
      "300/300 [==============================] - 54s 179ms/step - loss: 0.6871 - auc: 0.5820 - val_loss: 0.6070 - val_auc: 0.6556\n",
      "Epoch 210/400\n",
      "300/300 [==============================] - 55s 184ms/step - loss: 0.6919 - auc: 0.6913 - val_loss: 0.3256 - val_auc: 1.0000\n",
      "Epoch 211/400\n",
      "300/300 [==============================] - 51s 171ms/step - loss: 0.5956 - auc: 0.7169 - val_loss: 0.3488 - val_auc: 0.9668\n",
      "Epoch 212/400\n",
      "300/300 [==============================] - 57s 188ms/step - loss: 0.6227 - auc: 0.7667 - val_loss: 0.3737 - val_auc: 0.9596\n",
      "Epoch 213/400\n",
      "300/300 [==============================] - 55s 182ms/step - loss: 0.5309 - auc: 0.8071 - val_loss: 0.4332 - val_auc: 0.6964\n",
      "Epoch 214/400\n",
      "300/300 [==============================] - 55s 185ms/step - loss: 0.6636 - auc: 0.6003 - val_loss: 0.3938 - val_auc: 0.9766\n",
      "Epoch 215/400\n",
      "300/300 [==============================] - 56s 186ms/step - loss: 0.5419 - auc: 0.8017 - val_loss: 0.3822 - val_auc: 0.5587\n",
      "Epoch 216/400\n",
      "300/300 [==============================] - 57s 192ms/step - loss: 0.6266 - auc: 0.7302 - val_loss: 0.3942 - val_auc: 0.8574\n",
      "Epoch 217/400\n",
      "300/300 [==============================] - 57s 189ms/step - loss: 0.4686 - auc: 0.8222 - val_loss: 0.6079 - val_auc: 0.0000e+00\n",
      "Epoch 218/400\n",
      "300/300 [==============================] - 49s 164ms/step - loss: 0.5286 - auc: 0.8010 - val_loss: 0.4606 - val_auc: 0.9235\n",
      "Epoch 219/400\n",
      "300/300 [==============================] - 52s 173ms/step - loss: 0.7175 - auc: 0.6723 - val_loss: 0.6327 - val_auc: 0.8546\n",
      "Epoch 220/400\n",
      "300/300 [==============================] - 43s 145ms/step - loss: 0.5946 - auc: 0.6081 - val_loss: 0.4619 - val_auc: 0.7969\n",
      "Epoch 221/400\n",
      "300/300 [==============================] - 48s 162ms/step - loss: 0.6800 - auc: 0.7943 - val_loss: 0.4528 - val_auc: 0.4158\n",
      "Epoch 222/400\n",
      "300/300 [==============================] - 47s 155ms/step - loss: 0.7418 - auc: 0.7772 - val_loss: 0.4901 - val_auc: 0.6768\n",
      "Epoch 223/400\n",
      "300/300 [==============================] - 47s 157ms/step - loss: 0.6845 - auc: 0.8064 - val_loss: 0.5971 - val_auc: 0.3485\n",
      "Epoch 224/400\n",
      "300/300 [==============================] - 50s 165ms/step - loss: 0.6612 - auc: 0.6984 - val_loss: 0.6162 - val_auc: 0.7121\n",
      "Epoch 225/400\n",
      "300/300 [==============================] - 48s 161ms/step - loss: 0.5055 - auc: 0.7817 - val_loss: 0.4255 - val_auc: 0.9592\n",
      "Epoch 226/400\n",
      "300/300 [==============================] - 46s 153ms/step - loss: 0.4324 - auc: 0.7738 - val_loss: 0.4146 - val_auc: 0.7576\n",
      "Epoch 227/400\n",
      "300/300 [==============================] - 45s 149ms/step - loss: 0.7196 - auc: 0.7272 - val_loss: 0.4646 - val_auc: 0.0758\n",
      "Epoch 228/400\n",
      "300/300 [==============================] - 48s 160ms/step - loss: 0.7751 - auc: 0.6965 - val_loss: 0.4810 - val_auc: 0.0000e+00\n",
      "Epoch 229/400\n",
      "300/300 [==============================] - 54s 182ms/step - loss: 0.5406 - auc: 0.7820 - val_loss: 0.3593 - val_auc: 0.7980\n",
      "Epoch 230/400\n",
      "300/300 [==============================] - 56s 187ms/step - loss: 0.6296 - auc: 0.7168 - val_loss: 0.6606 - val_auc: 0.8485\n",
      "Epoch 231/400\n",
      "300/300 [==============================] - 56s 189ms/step - loss: 0.8799 - auc: 0.7495 - val_loss: 0.6178 - val_auc: 0.7096\n",
      "Epoch 232/400\n",
      "300/300 [==============================] - 52s 174ms/step - loss: 0.6188 - auc: 0.7676 - val_loss: 0.4227 - val_auc: 0.7370\n",
      "Epoch 233/400\n",
      "300/300 [==============================] - 56s 187ms/step - loss: 0.5716 - auc: 0.5443 - val_loss: 0.4247 - val_auc: 0.9974\n",
      "Epoch 234/400\n",
      "300/300 [==============================] - 53s 175ms/step - loss: 0.3740 - auc: 0.7584 - val_loss: 0.3034 - val_auc: 0.0000e+00\n",
      "Epoch 235/400\n",
      "300/300 [==============================] - 54s 179ms/step - loss: 0.4853 - auc: 0.8515 - val_loss: 0.3828 - val_auc: 0.8788\n",
      "Epoch 236/400\n",
      "300/300 [==============================] - 50s 166ms/step - loss: 0.5401 - auc: 0.8192 - val_loss: 0.4797 - val_auc: 0.6556\n",
      "Epoch 237/400\n",
      "300/300 [==============================] - 56s 185ms/step - loss: 0.5665 - auc: 0.6575 - val_loss: 0.4888 - val_auc: 0.6327\n",
      "Epoch 238/400\n",
      "300/300 [==============================] - 58s 192ms/step - loss: 0.7497 - auc: 0.5736 - val_loss: 0.3870 - val_auc: 0.8265\n",
      "Epoch 239/400\n",
      "300/300 [==============================] - 57s 191ms/step - loss: 0.5635 - auc: 0.5701 - val_loss: 0.4702 - val_auc: 0.8788\n",
      "Epoch 240/400\n",
      "300/300 [==============================] - 53s 178ms/step - loss: 0.6452 - auc: 0.5494 - val_loss: 0.4015 - val_auc: 0.8889\n",
      "Epoch 241/400\n",
      "300/300 [==============================] - 59s 198ms/step - loss: 0.6815 - auc: 0.7920 - val_loss: 0.5014 - val_auc: 0.9107\n",
      "Epoch 242/400\n",
      "300/300 [==============================] - 56s 187ms/step - loss: 0.6836 - auc: 0.7543 - val_loss: 0.5069 - val_auc: 0.0000e+00\n",
      "Epoch 243/400\n",
      "300/300 [==============================] - 54s 180ms/step - loss: 0.7910 - auc: 0.7928 - val_loss: 0.4577 - val_auc: 0.0000e+00\n",
      "Epoch 244/400\n",
      "300/300 [==============================] - 54s 181ms/step - loss: 0.7057 - auc: 0.6692 - val_loss: 0.4399 - val_auc: 0.9899\n",
      "Epoch 245/400\n",
      "300/300 [==============================] - 52s 172ms/step - loss: 0.5968 - auc: 0.7747 - val_loss: 0.5886 - val_auc: 0.5204\n",
      "Epoch 246/400\n",
      "300/300 [==============================] - 55s 183ms/step - loss: 0.3302 - auc: 0.9530 - val_loss: 0.4594 - val_auc: 0.6784\n",
      "Epoch 247/400\n",
      "300/300 [==============================] - 53s 176ms/step - loss: 0.7441 - auc: 0.8270 - val_loss: 0.5562 - val_auc: 0.7113\n",
      "Epoch 248/400\n",
      "300/300 [==============================] - 51s 170ms/step - loss: 0.8725 - auc: 0.6745 - val_loss: 0.4688 - val_auc: 0.8889\n",
      "Epoch 249/400\n",
      "300/300 [==============================] - 53s 176ms/step - loss: 0.3257 - auc: 0.6940 - val_loss: 0.3841 - val_auc: 0.9570\n",
      "Epoch 250/400\n",
      "300/300 [==============================] - 55s 184ms/step - loss: 0.8088 - auc: 0.8427 - val_loss: 0.4773 - val_auc: 0.9310\n",
      "Epoch 251/400\n",
      "300/300 [==============================] - 57s 189ms/step - loss: 0.4138 - auc: 0.8636 - val_loss: 0.3039 - val_auc: 0.9847\n",
      "Epoch 252/400\n",
      "300/300 [==============================] - 52s 174ms/step - loss: 0.6723 - auc: 0.5777 - val_loss: 0.4626 - val_auc: 0.8737\n",
      "Epoch 253/400\n",
      "300/300 [==============================] - 59s 197ms/step - loss: 0.5825 - auc: 0.8172 - val_loss: 0.5262 - val_auc: 0.9863\n",
      "Epoch 254/400\n",
      "300/300 [==============================] - 50s 167ms/step - loss: 0.5159 - auc: 0.9175 - val_loss: 0.4042 - val_auc: 0.0000e+00\n",
      "Epoch 255/400\n",
      "300/300 [==============================] - 56s 186ms/step - loss: 0.6345 - auc: 0.7530 - val_loss: 0.2544 - val_auc: 0.7509\n",
      "Epoch 256/400\n",
      "300/300 [==============================] - 54s 180ms/step - loss: 0.3308 - auc: 0.8540 - val_loss: 0.3669 - val_auc: 0.5354\n",
      "Epoch 257/400\n",
      "300/300 [==============================] - 47s 156ms/step - loss: 0.4034 - auc: 0.7901 - val_loss: 0.3642 - val_auc: 0.7015\n",
      "Epoch 258/400\n",
      "300/300 [==============================] - 55s 185ms/step - loss: 0.8655 - auc: 0.6239 - val_loss: 0.4411 - val_auc: 0.8622\n",
      "Epoch 259/400\n",
      "300/300 [==============================] - 51s 169ms/step - loss: 0.6917 - auc: 0.8063 - val_loss: 0.4221 - val_auc: 0.5101\n",
      "Epoch 260/400\n",
      "300/300 [==============================] - 56s 188ms/step - loss: 0.3908 - auc: 0.9102 - val_loss: 0.2867 - val_auc: 0.8788\n",
      "Epoch 261/400\n",
      "300/300 [==============================] - 53s 178ms/step - loss: 0.3035 - auc: 0.9394 - val_loss: 0.2138 - val_auc: 0.9583\n",
      "Epoch 262/400\n",
      "300/300 [==============================] - 56s 187ms/step - loss: 1.0492 - auc: 0.5480 - val_loss: 0.4135 - val_auc: 0.5051\n",
      "Epoch 263/400\n",
      "300/300 [==============================] - 54s 180ms/step - loss: 0.7651 - auc: 0.5816 - val_loss: 0.3988 - val_auc: 0.9605\n",
      "Epoch 264/400\n",
      "300/300 [==============================] - 56s 186ms/step - loss: 0.5457 - auc: 0.8294 - val_loss: 0.4869 - val_auc: 0.8797\n",
      "Epoch 265/400\n",
      "300/300 [==============================] - 55s 181ms/step - loss: 0.6787 - auc: 0.7509 - val_loss: 0.3741 - val_auc: 0.8636\n",
      "Epoch 266/400\n",
      "300/300 [==============================] - 51s 170ms/step - loss: 0.5835 - auc: 0.7812 - val_loss: 0.4375 - val_auc: 0.0000e+00\n",
      "Epoch 267/400\n",
      "300/300 [==============================] - 57s 190ms/step - loss: 0.6139 - auc: 0.7626 - val_loss: 0.4992 - val_auc: 0.6709\n",
      "Epoch 268/400\n",
      "300/300 [==============================] - 51s 169ms/step - loss: 0.5084 - auc: 0.7555 - val_loss: 0.4394 - val_auc: 0.8918\n",
      "Epoch 269/400\n",
      "300/300 [==============================] - 52s 173ms/step - loss: 0.6068 - auc: 0.7806 - val_loss: 0.3564 - val_auc: 0.7626\n",
      "Epoch 270/400\n",
      "300/300 [==============================] - 57s 189ms/step - loss: 0.3670 - auc: 0.8614 - val_loss: 0.3156 - val_auc: 0.5408\n",
      "Epoch 271/400\n",
      "300/300 [==============================] - 55s 182ms/step - loss: 0.4531 - auc: 0.5881 - val_loss: 0.4781 - val_auc: 1.0000\n",
      "Epoch 272/400\n",
      "300/300 [==============================] - 57s 192ms/step - loss: 0.7206 - auc: 0.5646 - val_loss: 0.4943 - val_auc: 0.8759\n",
      "Epoch 273/400\n",
      "300/300 [==============================] - 55s 183ms/step - loss: 0.6327 - auc: 0.7738 - val_loss: 0.2838 - val_auc: 1.0000\n",
      "Epoch 274/400\n",
      "300/300 [==============================] - 56s 185ms/step - loss: 0.6692 - auc: 0.7049 - val_loss: 0.3594 - val_auc: 0.9899\n",
      "Epoch 275/400\n",
      "300/300 [==============================] - 57s 188ms/step - loss: 0.5870 - auc: 0.8600 - val_loss: 0.3934 - val_auc: 0.8265\n",
      "Epoch 276/400\n",
      "300/300 [==============================] - 55s 182ms/step - loss: 0.4655 - auc: 0.8698 - val_loss: 0.3328 - val_auc: 0.0000e+00\n",
      "Epoch 277/400\n",
      "300/300 [==============================] - 57s 190ms/step - loss: 0.5547 - auc: 0.7732 - val_loss: 0.6129 - val_auc: 0.8265\n",
      "Epoch 278/400\n",
      "300/300 [==============================] - 53s 177ms/step - loss: 0.7093 - auc: 0.7496 - val_loss: 0.3487 - val_auc: 0.7096\n",
      "Epoch 279/400\n",
      "300/300 [==============================] - 57s 188ms/step - loss: 0.5717 - auc: 0.7622 - val_loss: 0.4419 - val_auc: 0.8622\n",
      "Epoch 280/400\n",
      "300/300 [==============================] - 59s 196ms/step - loss: 0.5062 - auc: 0.7546 - val_loss: 0.4072 - val_auc: 0.8526\n",
      "Epoch 281/400\n",
      "300/300 [==============================] - 53s 176ms/step - loss: 0.6880 - auc: 0.6336 - val_loss: 0.4050 - val_auc: 0.0000e+00\n",
      "Epoch 282/400\n",
      "300/300 [==============================] - 53s 177ms/step - loss: 0.6427 - auc: 0.7662 - val_loss: 0.4491 - val_auc: 0.0000e+00\n",
      "Epoch 283/400\n",
      "300/300 [==============================] - 58s 193ms/step - loss: 0.6019 - auc: 0.7664 - val_loss: 0.5208 - val_auc: 0.6327\n",
      "Epoch 284/400\n",
      "300/300 [==============================] - 56s 187ms/step - loss: 0.4658 - auc: 0.6863 - val_loss: 0.3364 - val_auc: 0.7879\n",
      "Epoch 285/400\n",
      "300/300 [==============================] - 55s 184ms/step - loss: 0.7939 - auc: 0.6195 - val_loss: 0.3061 - val_auc: 1.0000\n",
      "Epoch 286/400\n",
      "300/300 [==============================] - 56s 188ms/step - loss: 0.3547 - auc: 0.9169 - val_loss: 0.4236 - val_auc: 0.5691\n",
      "Epoch 287/400\n",
      "300/300 [==============================] - 55s 185ms/step - loss: 0.4681 - auc: 0.7998 - val_loss: 0.2591 - val_auc: 0.6890\n",
      "Epoch 288/400\n",
      "300/300 [==============================] - 55s 184ms/step - loss: 0.4152 - auc: 0.8619 - val_loss: 0.3166 - val_auc: 0.8841\n",
      "Epoch 289/400\n",
      "300/300 [==============================] - 56s 185ms/step - loss: 0.6860 - auc: 0.6471 - val_loss: 0.2645 - val_auc: 0.9697\n",
      "Epoch 290/400\n",
      "300/300 [==============================] - 53s 175ms/step - loss: 0.5712 - auc: 0.7495 - val_loss: 0.3353 - val_auc: 0.8041\n",
      "Epoch 291/400\n",
      "300/300 [==============================] - 53s 176ms/step - loss: 0.6673 - auc: 0.7669 - val_loss: 0.3162 - val_auc: 0.7778\n",
      "Epoch 292/400\n",
      "300/300 [==============================] - 52s 174ms/step - loss: 0.5972 - auc: 0.7261 - val_loss: 0.3099 - val_auc: 0.9227\n",
      "Epoch 293/400\n",
      "300/300 [==============================] - 54s 180ms/step - loss: 0.7159 - auc: 0.7070 - val_loss: 0.3327 - val_auc: 0.7182\n",
      "Epoch 294/400\n"
     ]
    },
    {
     "name": "stdout",
     "output_type": "stream",
     "text": [
      "300/300 [==============================] - 55s 184ms/step - loss: 0.6064 - auc: 0.7930 - val_loss: 0.4024 - val_auc: 0.8436\n",
      "Epoch 295/400\n",
      "300/300 [==============================] - 53s 175ms/step - loss: 0.6129 - auc: 0.8208 - val_loss: 0.3660 - val_auc: 0.0000e+00\n",
      "Epoch 296/400\n",
      "300/300 [==============================] - 53s 178ms/step - loss: 0.4215 - auc: 0.8725 - val_loss: 0.3687 - val_auc: 0.0000e+00\n",
      "Epoch 297/400\n",
      "300/300 [==============================] - 54s 180ms/step - loss: 0.7348 - auc: 0.5905 - val_loss: 0.3506 - val_auc: 0.9227\n",
      "Epoch 298/400\n",
      "300/300 [==============================] - 57s 189ms/step - loss: 0.3151 - auc: 0.9018 - val_loss: 0.2844 - val_auc: 0.9192\n",
      "Epoch 299/400\n",
      "300/300 [==============================] - 58s 193ms/step - loss: 0.5221 - auc: 0.6117 - val_loss: 0.2988 - val_auc: 0.9899\n",
      "Epoch 300/400\n",
      "300/300 [==============================] - 59s 196ms/step - loss: 0.3696 - auc: 0.9265 - val_loss: 0.2558 - val_auc: 0.6173\n",
      "Epoch 301/400\n",
      "300/300 [==============================] - 54s 179ms/step - loss: 0.7160 - auc: 0.7189 - val_loss: 0.3775 - val_auc: 0.6631\n",
      "Epoch 302/400\n",
      "300/300 [==============================] - 57s 189ms/step - loss: 0.3927 - auc: 0.8373 - val_loss: 0.3082 - val_auc: 0.8444\n",
      "Epoch 303/400\n",
      "300/300 [==============================] - 53s 178ms/step - loss: 0.4227 - auc: 0.7694 - val_loss: 0.2547 - val_auc: 0.2929\n",
      "Epoch 304/400\n",
      "300/300 [==============================] - 55s 182ms/step - loss: 0.7496 - auc: 0.8133 - val_loss: 0.3136 - val_auc: 0.6913\n",
      "Epoch 305/400\n",
      "300/300 [==============================] - 55s 183ms/step - loss: 0.7748 - auc: 0.7734 - val_loss: 0.3128 - val_auc: 0.8986\n",
      "Epoch 306/400\n",
      "300/300 [==============================] - 53s 178ms/step - loss: 1.0258 - auc: 0.6445 - val_loss: 0.3954 - val_auc: 0.9770\n",
      "Epoch 307/400\n",
      "300/300 [==============================] - 51s 170ms/step - loss: 0.6422 - auc: 0.6946 - val_loss: 0.3674 - val_auc: 0.0000e+00\n",
      "Epoch 308/400\n",
      "300/300 [==============================] - 55s 182ms/step - loss: 0.6833 - auc: 0.6132 - val_loss: 0.3909 - val_auc: 0.9082\n",
      "Epoch 309/400\n",
      "300/300 [==============================] - 56s 187ms/step - loss: 0.6990 - auc: 0.7428 - val_loss: 0.4026 - val_auc: 0.0000e+00\n",
      "Epoch 310/400\n",
      "300/300 [==============================] - 51s 169ms/step - loss: 0.6639 - auc: 0.6258 - val_loss: 0.3991 - val_auc: 0.8918\n",
      "Epoch 311/400\n",
      "300/300 [==============================] - 54s 182ms/step - loss: 0.8015 - auc: 0.7441 - val_loss: 0.3646 - val_auc: 0.0000e+00\n",
      "Epoch 312/400\n",
      "300/300 [==============================] - 52s 172ms/step - loss: 0.5343 - auc: 0.7141 - val_loss: 0.3247 - val_auc: 0.7296\n",
      "Epoch 313/400\n",
      "300/300 [==============================] - 54s 181ms/step - loss: 0.5909 - auc: 0.8186 - val_loss: 0.5162 - val_auc: 0.8484\n",
      "Epoch 314/400\n",
      "300/300 [==============================] - 54s 179ms/step - loss: 0.6183 - auc: 0.6797 - val_loss: 0.5246 - val_auc: 0.9192\n",
      "Epoch 315/400\n",
      "300/300 [==============================] - 55s 184ms/step - loss: 0.6801 - auc: 0.7722 - val_loss: 0.3041 - val_auc: 0.8442\n",
      "Epoch 316/400\n",
      "300/300 [==============================] - 56s 186ms/step - loss: 0.6132 - auc: 0.7969 - val_loss: 0.4048 - val_auc: 0.6888\n",
      "Epoch 317/400\n",
      "300/300 [==============================] - 51s 172ms/step - loss: 0.5190 - auc: 0.7378 - val_loss: 0.3683 - val_auc: 0.3954\n",
      "Epoch 318/400\n",
      "300/300 [==============================] - 53s 175ms/step - loss: 0.5186 - auc: 0.7310 - val_loss: 0.3075 - val_auc: 0.8283\n",
      "Epoch 319/400\n",
      "300/300 [==============================] - 54s 180ms/step - loss: 0.6868 - auc: 0.4568 - val_loss: 0.5445 - val_auc: 0.6162\n",
      "Epoch 320/400\n",
      "300/300 [==============================] - 51s 168ms/step - loss: 0.9503 - auc: 0.5241 - val_loss: 0.3966 - val_auc: 0.9495\n",
      "Epoch 321/400\n",
      "300/300 [==============================] - 54s 180ms/step - loss: 0.5302 - auc: 0.7812 - val_loss: 0.4432 - val_auc: 0.7715\n",
      "Epoch 322/400\n",
      "300/300 [==============================] - 54s 182ms/step - loss: 0.6207 - auc: 0.5642 - val_loss: 0.3979 - val_auc: 0.2323\n",
      "Epoch 323/400\n",
      "300/300 [==============================] - 56s 185ms/step - loss: 0.5985 - auc: 0.6094 - val_loss: 0.3996 - val_auc: 0.0000e+00\n",
      "Epoch 324/400\n",
      "300/300 [==============================] - 51s 170ms/step - loss: 0.7105 - auc: 0.6446 - val_loss: 0.4123 - val_auc: 0.3182\n",
      "Epoch 325/400\n",
      "300/300 [==============================] - 53s 177ms/step - loss: 0.5613 - auc: 0.7348 - val_loss: 0.3893 - val_auc: 0.0000e+00\n",
      "Epoch 326/400\n",
      "300/300 [==============================] - 53s 177ms/step - loss: 0.4993 - auc: 0.7639 - val_loss: 0.5297 - val_auc: 0.7168\n",
      "Epoch 327/400\n",
      "300/300 [==============================] - 56s 185ms/step - loss: 0.6112 - auc: 0.5959 - val_loss: 0.4404 - val_auc: 0.6810\n",
      "Epoch 328/400\n",
      "300/300 [==============================] - 57s 191ms/step - loss: 0.6394 - auc: 0.7319 - val_loss: 0.3906 - val_auc: 0.7234\n",
      "Epoch 329/400\n",
      "300/300 [==============================] - 57s 189ms/step - loss: 0.4538 - auc: 0.5671 - val_loss: 0.4170 - val_auc: 0.0000e+00\n",
      "Epoch 330/400\n",
      "300/300 [==============================] - 52s 174ms/step - loss: 0.5972 - auc: 0.8095 - val_loss: 0.4189 - val_auc: 0.7057\n",
      "Epoch 331/400\n",
      "300/300 [==============================] - 50s 168ms/step - loss: 0.2907 - auc: 0.9832 - val_loss: 0.4042 - val_auc: 0.0000e+00\n",
      "Epoch 332/400\n",
      "300/300 [==============================] - 55s 182ms/step - loss: 0.5792 - auc: 0.8393 - val_loss: 0.5483 - val_auc: 0.8299\n",
      "Epoch 333/400\n",
      "300/300 [==============================] - 56s 188ms/step - loss: 0.5030 - auc: 0.8434 - val_loss: 0.3873 - val_auc: 0.8636\n",
      "Epoch 334/400\n",
      "300/300 [==============================] - 55s 183ms/step - loss: 0.5863 - auc: 0.8019 - val_loss: 0.5004 - val_auc: 0.5867\n",
      "Epoch 335/400\n",
      "300/300 [==============================] - 53s 176ms/step - loss: 0.7063 - auc: 0.7746 - val_loss: 0.3714 - val_auc: 0.0000e+00\n",
      "Epoch 336/400\n",
      "300/300 [==============================] - 53s 176ms/step - loss: 0.6976 - auc: 0.7097 - val_loss: 0.3701 - val_auc: 0.9245\n",
      "Epoch 337/400\n",
      "300/300 [==============================] - 57s 190ms/step - loss: 0.6082 - auc: 0.6868 - val_loss: 0.4798 - val_auc: 0.5000\n",
      "Epoch 338/400\n",
      "300/300 [==============================] - 53s 177ms/step - loss: 0.6205 - auc: 0.9003 - val_loss: 0.4141 - val_auc: 0.6633\n",
      "Epoch 339/400\n",
      "300/300 [==============================] - 56s 188ms/step - loss: 0.5455 - auc: 0.6470 - val_loss: 0.4765 - val_auc: 0.7778\n",
      "Epoch 340/400\n",
      "300/300 [==============================] - 53s 177ms/step - loss: 0.5819 - auc: 0.7156 - val_loss: 0.4698 - val_auc: 0.8827\n",
      "Epoch 341/400\n",
      "300/300 [==============================] - 55s 185ms/step - loss: 0.7264 - auc: 0.6921 - val_loss: 0.3627 - val_auc: 0.8535\n",
      "Epoch 342/400\n",
      "300/300 [==============================] - 57s 189ms/step - loss: 0.4301 - auc: 0.9555 - val_loss: 0.4156 - val_auc: 0.0000e+00\n",
      "Epoch 343/400\n",
      "300/300 [==============================] - 54s 181ms/step - loss: 0.5932 - auc: 0.7996 - val_loss: 0.5178 - val_auc: 0.9072\n",
      "Epoch 344/400\n",
      "300/300 [==============================] - 50s 166ms/step - loss: 0.6172 - auc: 0.5950 - val_loss: 0.6159 - val_auc: 0.9899\n",
      "Epoch 345/400\n",
      "300/300 [==============================] - 53s 177ms/step - loss: 0.4263 - auc: 0.8733 - val_loss: 0.5616 - val_auc: 0.8608\n",
      "Epoch 346/400\n",
      "300/300 [==============================] - 58s 192ms/step - loss: 0.6525 - auc: 0.5769 - val_loss: 0.6460 - val_auc: 0.8229\n",
      "Epoch 347/400\n",
      "300/300 [==============================] - 52s 172ms/step - loss: 0.6958 - auc: 0.5986 - val_loss: 0.4552 - val_auc: 0.8990\n",
      "Epoch 348/400\n",
      "300/300 [==============================] - 52s 173ms/step - loss: 0.6047 - auc: 0.8191 - val_loss: 0.4589 - val_auc: 0.0000e+00\n",
      "Epoch 349/400\n",
      "300/300 [==============================] - 56s 186ms/step - loss: 0.5888 - auc: 0.7840 - val_loss: 0.4362 - val_auc: 0.7715\n",
      "Epoch 350/400\n",
      "300/300 [==============================] - 53s 176ms/step - loss: 0.6646 - auc: 0.7808 - val_loss: 0.4898 - val_auc: 0.7921\n",
      "Epoch 351/400\n",
      "300/300 [==============================] - 54s 180ms/step - loss: 0.6376 - auc: 0.7285 - val_loss: 0.4781 - val_auc: 0.0000e+00\n",
      "Epoch 352/400\n",
      "300/300 [==============================] - 54s 181ms/step - loss: 0.5427 - auc: 0.6854 - val_loss: 0.3705 - val_auc: 0.8081\n",
      "Epoch 353/400\n"
     ]
    },
    {
     "name": "stdout",
     "output_type": "stream",
     "text": [
      "300/300 [==============================] - 55s 184ms/step - loss: 0.6122 - auc: 0.7684 - val_loss: 0.4391 - val_auc: 0.9794\n",
      "Epoch 354/400\n",
      "300/300 [==============================] - 53s 175ms/step - loss: 0.8729 - auc: 0.6816 - val_loss: 0.5144 - val_auc: 0.7374\n",
      "Epoch 355/400\n",
      "300/300 [==============================] - 56s 185ms/step - loss: 0.5052 - auc: 0.7829 - val_loss: 0.4128 - val_auc: 0.5455\n",
      "Epoch 356/400\n",
      "300/300 [==============================] - 55s 185ms/step - loss: 0.7770 - auc: 0.3416 - val_loss: 0.4487 - val_auc: 0.4021\n",
      "Epoch 357/400\n",
      "300/300 [==============================] - 52s 173ms/step - loss: 0.7118 - auc: 0.7253 - val_loss: 0.6450 - val_auc: 0.0000e+00\n",
      "Epoch 358/400\n",
      "300/300 [==============================] - 61s 204ms/step - loss: 0.4669 - auc: 0.8075 - val_loss: 0.4985 - val_auc: 0.9031\n",
      "Epoch 359/400\n",
      "300/300 [==============================] - 53s 176ms/step - loss: 0.8695 - auc: 0.5914 - val_loss: 0.5424 - val_auc: 0.5404\n",
      "Epoch 360/400\n",
      "300/300 [==============================] - 55s 183ms/step - loss: 0.6365 - auc: 0.5304 - val_loss: 0.5683 - val_auc: 0.0000e+00\n",
      "Epoch 361/400\n",
      "300/300 [==============================] - 54s 181ms/step - loss: 0.4648 - auc: 0.9254 - val_loss: 0.4880 - val_auc: 0.7066\n",
      "Restoring model weights from the end of the best epoch.\n",
      "Epoch 00361: early stopping\n"
     ]
    }
   ],
   "source": [
    "history = model.fit(\n",
    "    Train_Data,\n",
    "    steps_per_epoch= 300,\n",
    "    epochs= 400,\n",
    "    validation_data=Val_Data,\n",
    "    callbacks=cb,\n",
    "    class_weight = class_weight,\n",
    "    validation_steps= 100)"
   ]
  },
  {
   "cell_type": "code",
   "execution_count": 49,
   "metadata": {},
   "outputs": [],
   "source": [
    "model.save('cnn_melanoma_weights_full_7.1.h5')"
   ]
  },
  {
   "cell_type": "code",
   "execution_count": 38,
   "metadata": {},
   "outputs": [],
   "source": [
    "load_model = tf.keras.models.load_model('cnn_melanoma_new_aug_7.1.h5')"
   ]
  },
  {
   "cell_type": "code",
   "execution_count": 47,
   "metadata": {},
   "outputs": [
    {
     "name": "stdout",
     "output_type": "stream",
     "text": [
      "600/600 [==============================] - 87s 145ms/step - loss: 0.6950 - auc: 0.6325\n"
     ]
    },
    {
     "data": {
      "text/plain": [
       "[0.694965124130249, 0.6325494647026062]"
      ]
     },
     "execution_count": 47,
     "metadata": {},
     "output_type": "execute_result"
    }
   ],
   "source": [
    "model.evaluate(Test_Data_17)"
   ]
  },
  {
   "cell_type": "code",
   "execution_count": 44,
   "metadata": {},
   "outputs": [
    {
     "name": "stdout",
     "output_type": "stream",
     "text": [
      "6626/6626 [==============================] - 344s 52ms/step - loss: 0.3162 - auc: 0.7598\n"
     ]
    },
    {
     "data": {
      "text/plain": [
       "[0.31620028614997864, 0.7597705125808716]"
      ]
     },
     "execution_count": 44,
     "metadata": {},
     "output_type": "execute_result"
    }
   ],
   "source": [
    "model.evaluate(Val_Data)"
   ]
  },
  {
   "cell_type": "code",
   "execution_count": 46,
   "metadata": {},
   "outputs": [
    {
     "name": "stdout",
     "output_type": "stream",
     "text": [
      "378/378 [==============================] - 10s 24ms/step - loss: 0.6721 - auc: 0.7590\n"
     ]
    },
    {
     "data": {
      "text/plain": [
       "[0.6720641851425171, 0.7590319514274597]"
      ]
     },
     "execution_count": 46,
     "metadata": {},
     "output_type": "execute_result"
    }
   ],
   "source": [
    "model.evaluate(Test_Data)"
   ]
  },
  {
   "cell_type": "code",
   "execution_count": null,
   "metadata": {},
   "outputs": [],
   "source": [
    "model.evaluate(Val_Data)"
   ]
  },
  {
   "cell_type": "code",
   "execution_count": 47,
   "metadata": {},
   "outputs": [],
   "source": [
    "METRICS = [\n",
    "      tf.keras.metrics.TruePositives(name='tp'),\n",
    "      tf.keras.metrics.FalsePositives(name='fp'),\n",
    "      tf.keras.metrics.TrueNegatives(name='tn'),\n",
    "      tf.keras.metrics.FalseNegatives(name='fn'), \n",
    "      tf.keras.metrics.BinaryAccuracy(name='accuracy'),\n",
    "      tf.keras.metrics.Precision(name='precision'),\n",
    "      tf.keras.metrics.Recall(name='recall'),\n",
    "      tf.keras.metrics.AUC(name='auc'),\n",
    "      tf.keras.metrics.AUC(name='prc', curve='PR'), # precision-recall curve\n",
    "      tf.keras.metrics.SpecificityAtSensitivity(.82)\n",
    "]\n",
    "\n",
    "load_model.compile(loss='binary_crossentropy', metrics=METRICS,optimizer=opt)\n",
    "\n"
   ]
  },
  {
   "cell_type": "code",
   "execution_count": null,
   "metadata": {
    "scrolled": true
   },
   "outputs": [],
   "source": [
    "load_model.evaluate(Val_Data)"
   ]
  },
  {
   "cell_type": "code",
   "execution_count": null,
   "metadata": {},
   "outputs": [],
   "source": [
    "train_x, train_y = Test_Data_2.next()\n",
    "train_x_new = train_x[0,:, :]\n",
    "plt.imshow(train_x_new)\n",
    "print(train_y)"
   ]
  },
  {
   "cell_type": "code",
   "execution_count": null,
   "metadata": {},
   "outputs": [],
   "source": [
    "img_array = tf.expand_dims(train_x_new, axis=0)\n",
    "plt.imshow(train_x_new)\n",
    "plt.title(' Truth: ' + str(train_y)+ \" Pred: \" + str(load_model.predict(img_array)[0]))\n",
    "# plt.axis(\"off\")\n",
    "print(train_y)"
   ]
  },
  {
   "cell_type": "code",
   "execution_count": null,
   "metadata": {},
   "outputs": [],
   "source": [
    "img_array = tf.expand_dims(train_x_new, axis=0)\n",
    "plt.imshow(train_x_new)\n",
    "plt.title(' Truth: ' + str(train_y)+ \" Pred: \" + str(model.predict(img_array)[0]))\n",
    "# plt.axis(\"off\")\n",
    "print(train_y)"
   ]
  },
  {
   "cell_type": "code",
   "execution_count": 58,
   "metadata": {},
   "outputs": [],
   "source": [
    "predicted_labels_test = model.predict(Test_Data)"
   ]
  },
  {
   "cell_type": "code",
   "execution_count": 59,
   "metadata": {},
   "outputs": [],
   "source": [
    "# predicted_labels_test[predicted_labels_test>=.5] = 1\n",
    "# predicted_labels_test[predicted_labels_test<.5] = 0"
   ]
  },
  {
   "cell_type": "code",
   "execution_count": 60,
   "metadata": {},
   "outputs": [],
   "source": [
    "true_labels_test =total_test['target'].to_numpy().reshape(378,)\n",
    "predicted_labels_test =predicted_labels_test.squeeze()"
   ]
  },
  {
   "cell_type": "code",
   "execution_count": 61,
   "metadata": {},
   "outputs": [],
   "source": [
    "predicted_labels_test_17 = model.predict(Test_Data_17)\n",
    "true_labels_test_17 =test_2017_frame['target'].to_numpy().reshape(600,)\n",
    "predicted_labels_test_17 =predicted_labels_test_17.squeeze()"
   ]
  },
  {
   "cell_type": "code",
   "execution_count": 62,
   "metadata": {},
   "outputs": [],
   "source": [
    "predicted_labels_val = model.predict(Val_Data)\n",
    "# predicted_labels_val[predicted_labels_val>=.5] = 1\n",
    "# predicted_labels_val[predicted_labels_val<.5] = 0"
   ]
  },
  {
   "cell_type": "code",
   "execution_count": 63,
   "metadata": {},
   "outputs": [],
   "source": [
    "true_labels_val =val_gen['target'].to_numpy().reshape(517,)\n",
    "predicted_labels_val =predicted_labels_val.squeeze()"
   ]
  },
  {
   "cell_type": "code",
   "execution_count": 64,
   "metadata": {},
   "outputs": [],
   "source": [
    "import sklearn\n",
    "def plot_roc(name, labels, predictions, **kwargs):\n",
    "    fp, tp, _ = sklearn.metrics.roc_curve(labels, predictions)\n",
    "    plt.plot(100*fp, 100*tp, label=name, linewidth=2, **kwargs)\n",
    "    plt.xlabel('False positives [%]')\n",
    "    plt.ylabel('True positives [%]')\n",
    "#     plt.xlim([-0.5,20])\n",
    "#     plt.ylim([80,100.5])\n",
    "    plt.grid(True)\n",
    "    ax = plt.gca()\n",
    "    ax.set_aspect('equal')\n",
    "    "
   ]
  },
  {
   "cell_type": "code",
   "execution_count": 69,
   "metadata": {},
   "outputs": [
    {
     "data": {
      "text/plain": [
       "<matplotlib.legend.Legend at 0x7f5e7c496e50>"
      ]
     },
     "execution_count": 69,
     "metadata": {},
     "output_type": "execute_result"
    },
    {
     "data": {
      "image/png": "[encoded data removed]",
      "text/plain": [
       "<Figure size 432x288 with 1 Axes>"
      ]
     },
     "metadata": {
      "needs_background": "light"
     },
     "output_type": "display_data"
    }
   ],
   "source": [
    "colors = plt.rcParams['axes.prop_cycle'].by_key()['color']\n",
    "plot_roc(\"Val Baseline\", true_labels_val, predicted_labels_val, color=colors[0], linestyle='--')\n",
    "plot_roc(\"Test_2016 Baseline\", true_labels_test, predicted_labels_test, color=colors[1])\n",
    "plot_roc(\"Test_2017 Baseline\", true_labels_test_17, predicted_labels_test_17, color=colors[2])\n",
    "\n",
    "\n",
    "plt.legend(loc='lower right')"
   ]
  },
  {
   "cell_type": "code",
   "execution_count": 45,
   "metadata": {},
   "outputs": [
    {
     "name": "stdout",
     "output_type": "stream",
     "text": [
      "dict_keys(['loss', 'auc', 'val_loss', 'val_auc'])\n"
     ]
    },
    {
     "data": {
      "image/png": "[encoded data removed]",
      "text/plain": [
       "<Figure size 432x288 with 1 Axes>"
      ]
     },
     "metadata": {
      "needs_background": "light"
     },
     "output_type": "display_data"
    },
    {
     "data": {
      "image/png": "[encoded data removed]",
      "text/plain": [
       "<Figure size 432x288 with 1 Axes>"
      ]
     },
     "metadata": {
      "needs_background": "light"
     },
     "output_type": "display_data"
    }
   ],
   "source": [
    "print(history.history.keys())\n",
    "plt.plot(history.history['auc'])\n",
    "plt.plot(history.history['val_auc'])\n",
    "plt.title('model auc')\n",
    "plt.ylabel('auc')\n",
    "plt.xlabel('epoch')\n",
    "plt.legend(['train', 'val'], loc='upper left')\n",
    "plt.show()\n",
    "\n",
    "# summarize history for loss\n",
    "plt.plot(history.history['loss'])\n",
    "plt.plot(history.history['val_loss'])\n",
    "plt.title('model loss')\n",
    "plt.ylabel('loss')\n",
    "plt.xlabel('epoch')\n",
    "plt.legend(['train', 'val'], loc='upper left')\n",
    "plt.show()"
   ]
  },
  {
   "cell_type": "code",
   "execution_count": null,
   "metadata": {},
   "outputs": [],
   "source": []
  }
 ],
 "metadata": {
  "kernelspec": {
   "display_name": "Python 3",
   "language": "python",
   "name": "python3"
  },
  "language_info": {
   "codemirror_mode": {
    "name": "ipython",
    "version": 3
   },
   "file_extension": ".py",
   "mimetype": "text/x-python",
   "name": "python",
   "nbconvert_exporter": "python",
   "pygments_lexer": "ipython3",
   "version": "3.8.10"
  }
 },
 "nbformat": 4,
 "nbformat_minor": 4
}
